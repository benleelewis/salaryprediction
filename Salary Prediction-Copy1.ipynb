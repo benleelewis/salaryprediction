{
 "cells": [
  {
   "cell_type": "markdown",
   "metadata": {},
   "source": [
    "# Salary Predictions Based on Job Descriptions"
   ]
  },
  {
   "cell_type": "markdown",
   "metadata": {},
   "source": [
    "# Part 1 - DEFINE"
   ]
  },
  {
   "cell_type": "markdown",
   "metadata": {},
   "source": [
    "### ---- 1 Define the problem ----"
   ]
  },
  {
   "cell_type": "markdown",
   "metadata": {},
   "source": [
    "Given a list of features of jobs, predict their salary"
   ]
  },
  {
   "cell_type": "code",
   "execution_count": 81,
   "metadata": {},
   "outputs": [],
   "source": [
    "#import your libraries\n",
    "import pandas as pd\n",
    "import sklearn \n",
    "import matplotlib as plt\n",
    "import seaborn as sns\n",
    "import numpy as np\n",
    "from tpot import TPOTRegressor\n",
    "from sklearn.datasets import load_boston\n",
    "from sklearn.model_selection import train_test_split\n",
    "from sklearn.preprocessing import StandardScaler\n",
    "from sklearn.linear_model import LinearRegression, Lasso, Ridge\n",
    "from sklearn.pipeline import make_pipeline\n",
    "from sklearn.datasets import load_iris\n",
    "from sklearn.model_selection import train_test_split, GridSearchCV\n",
    "from sklearn.metrics import accuracy_score, mean_squared_error, r2_score\n",
    "from sklearn.model_selection import cross_validate\n",
    "\n",
    "import xgboost\n",
    "\n",
    "from sklearn.datasets import fetch_openml\n",
    "from sklearn.ensemble import RandomForestRegressor\n",
    "from sklearn.impute import SimpleImputer\n",
    "#from sklearn.inspection import permutation_importance\n",
    "from sklearn.compose import ColumnTransformer\n",
    "from sklearn.model_selection import train_test_split\n",
    "from sklearn.pipeline import Pipeline\n",
    "from sklearn.preprocessing import OneHotEncoder,OrdinalEncoder\n",
    "\n",
    "#your info here\n",
    "__author__ = \"Ben Lewis\"\n",
    "__email__ = \"benlewisdatascience@gmail.com\""
   ]
  },
  {
   "cell_type": "markdown",
   "metadata": {},
   "source": [
    "## Part 2 - DISCOVER"
   ]
  },
  {
   "cell_type": "markdown",
   "metadata": {},
   "source": [
    "### ---- 2 Load the data ----"
   ]
  },
  {
   "cell_type": "code",
   "execution_count": 5,
   "metadata": {},
   "outputs": [],
   "source": [
    "#load the data into a Pandas dataframe\n",
    "df_train_features = pd.read_csv('data/train_features.csv')\n",
    "df_train_salaries = pd.read_csv('data/train_salaries.csv')"
   ]
  },
  {
   "cell_type": "code",
   "execution_count": 6,
   "metadata": {},
   "outputs": [],
   "source": [
    "\n",
    "df_test_features = pd.read_csv('data/test_features.csv')\n",
    "#df_test_salaries = pd.read_csv('data/test_salaries.csv')"
   ]
  },
  {
   "cell_type": "code",
   "execution_count": 7,
   "metadata": {},
   "outputs": [
    {
     "data": {
      "text/html": [
       "<div>\n",
       "<style scoped>\n",
       "    .dataframe tbody tr th:only-of-type {\n",
       "        vertical-align: middle;\n",
       "    }\n",
       "\n",
       "    .dataframe tbody tr th {\n",
       "        vertical-align: top;\n",
       "    }\n",
       "\n",
       "    .dataframe thead th {\n",
       "        text-align: right;\n",
       "    }\n",
       "</style>\n",
       "<table border=\"1\" class=\"dataframe\">\n",
       "  <thead>\n",
       "    <tr style=\"text-align: right;\">\n",
       "      <th></th>\n",
       "      <th>jobId</th>\n",
       "      <th>companyId</th>\n",
       "      <th>jobType</th>\n",
       "      <th>degree</th>\n",
       "      <th>major</th>\n",
       "      <th>industry</th>\n",
       "      <th>yearsExperience</th>\n",
       "      <th>milesFromMetropolis</th>\n",
       "    </tr>\n",
       "  </thead>\n",
       "  <tbody>\n",
       "    <tr>\n",
       "      <th>0</th>\n",
       "      <td>False</td>\n",
       "      <td>False</td>\n",
       "      <td>False</td>\n",
       "      <td>False</td>\n",
       "      <td>False</td>\n",
       "      <td>False</td>\n",
       "      <td>False</td>\n",
       "      <td>False</td>\n",
       "    </tr>\n",
       "    <tr>\n",
       "      <th>1</th>\n",
       "      <td>False</td>\n",
       "      <td>False</td>\n",
       "      <td>False</td>\n",
       "      <td>False</td>\n",
       "      <td>False</td>\n",
       "      <td>False</td>\n",
       "      <td>False</td>\n",
       "      <td>False</td>\n",
       "    </tr>\n",
       "    <tr>\n",
       "      <th>2</th>\n",
       "      <td>False</td>\n",
       "      <td>False</td>\n",
       "      <td>False</td>\n",
       "      <td>False</td>\n",
       "      <td>False</td>\n",
       "      <td>False</td>\n",
       "      <td>False</td>\n",
       "      <td>False</td>\n",
       "    </tr>\n",
       "    <tr>\n",
       "      <th>3</th>\n",
       "      <td>False</td>\n",
       "      <td>False</td>\n",
       "      <td>False</td>\n",
       "      <td>False</td>\n",
       "      <td>False</td>\n",
       "      <td>False</td>\n",
       "      <td>False</td>\n",
       "      <td>False</td>\n",
       "    </tr>\n",
       "    <tr>\n",
       "      <th>4</th>\n",
       "      <td>False</td>\n",
       "      <td>False</td>\n",
       "      <td>False</td>\n",
       "      <td>False</td>\n",
       "      <td>False</td>\n",
       "      <td>False</td>\n",
       "      <td>False</td>\n",
       "      <td>False</td>\n",
       "    </tr>\n",
       "    <tr>\n",
       "      <th>...</th>\n",
       "      <td>...</td>\n",
       "      <td>...</td>\n",
       "      <td>...</td>\n",
       "      <td>...</td>\n",
       "      <td>...</td>\n",
       "      <td>...</td>\n",
       "      <td>...</td>\n",
       "      <td>...</td>\n",
       "    </tr>\n",
       "    <tr>\n",
       "      <th>999995</th>\n",
       "      <td>False</td>\n",
       "      <td>False</td>\n",
       "      <td>False</td>\n",
       "      <td>False</td>\n",
       "      <td>False</td>\n",
       "      <td>False</td>\n",
       "      <td>False</td>\n",
       "      <td>False</td>\n",
       "    </tr>\n",
       "    <tr>\n",
       "      <th>999996</th>\n",
       "      <td>False</td>\n",
       "      <td>False</td>\n",
       "      <td>False</td>\n",
       "      <td>False</td>\n",
       "      <td>False</td>\n",
       "      <td>False</td>\n",
       "      <td>False</td>\n",
       "      <td>False</td>\n",
       "    </tr>\n",
       "    <tr>\n",
       "      <th>999997</th>\n",
       "      <td>False</td>\n",
       "      <td>False</td>\n",
       "      <td>False</td>\n",
       "      <td>False</td>\n",
       "      <td>False</td>\n",
       "      <td>False</td>\n",
       "      <td>False</td>\n",
       "      <td>False</td>\n",
       "    </tr>\n",
       "    <tr>\n",
       "      <th>999998</th>\n",
       "      <td>False</td>\n",
       "      <td>False</td>\n",
       "      <td>False</td>\n",
       "      <td>False</td>\n",
       "      <td>False</td>\n",
       "      <td>False</td>\n",
       "      <td>False</td>\n",
       "      <td>False</td>\n",
       "    </tr>\n",
       "    <tr>\n",
       "      <th>999999</th>\n",
       "      <td>False</td>\n",
       "      <td>False</td>\n",
       "      <td>False</td>\n",
       "      <td>False</td>\n",
       "      <td>False</td>\n",
       "      <td>False</td>\n",
       "      <td>False</td>\n",
       "      <td>False</td>\n",
       "    </tr>\n",
       "  </tbody>\n",
       "</table>\n",
       "<p>1000000 rows × 8 columns</p>\n",
       "</div>"
      ],
      "text/plain": [
       "        jobId  companyId  jobType  degree  major  industry  yearsExperience  \\\n",
       "0       False      False    False   False  False     False            False   \n",
       "1       False      False    False   False  False     False            False   \n",
       "2       False      False    False   False  False     False            False   \n",
       "3       False      False    False   False  False     False            False   \n",
       "4       False      False    False   False  False     False            False   \n",
       "...       ...        ...      ...     ...    ...       ...              ...   \n",
       "999995  False      False    False   False  False     False            False   \n",
       "999996  False      False    False   False  False     False            False   \n",
       "999997  False      False    False   False  False     False            False   \n",
       "999998  False      False    False   False  False     False            False   \n",
       "999999  False      False    False   False  False     False            False   \n",
       "\n",
       "        milesFromMetropolis  \n",
       "0                     False  \n",
       "1                     False  \n",
       "2                     False  \n",
       "3                     False  \n",
       "4                     False  \n",
       "...                     ...  \n",
       "999995                False  \n",
       "999996                False  \n",
       "999997                False  \n",
       "999998                False  \n",
       "999999                False  \n",
       "\n",
       "[1000000 rows x 8 columns]"
      ]
     },
     "execution_count": 7,
     "metadata": {},
     "output_type": "execute_result"
    }
   ],
   "source": [
    "df_train_features.isnull() "
   ]
  },
  {
   "cell_type": "code",
   "execution_count": 8,
   "metadata": {},
   "outputs": [
    {
     "data": {
      "text/plain": [
       "0"
      ]
     },
     "execution_count": 8,
     "metadata": {},
     "output_type": "execute_result"
    }
   ],
   "source": [
    "df_train_features.duplicated().sum()"
   ]
  },
  {
   "cell_type": "code",
   "execution_count": 9,
   "metadata": {},
   "outputs": [
    {
     "data": {
      "text/plain": [
       "1000000"
      ]
     },
     "execution_count": 9,
     "metadata": {},
     "output_type": "execute_result"
    }
   ],
   "source": [
    "#look for duplicate data, invalid data (e.g. salaries <=0), or corrupt data and remove it\n",
    "len(df_train_features)"
   ]
  },
  {
   "cell_type": "code",
   "execution_count": 10,
   "metadata": {},
   "outputs": [
    {
     "data": {
      "text/html": [
       "<div>\n",
       "<style scoped>\n",
       "    .dataframe tbody tr th:only-of-type {\n",
       "        vertical-align: middle;\n",
       "    }\n",
       "\n",
       "    .dataframe tbody tr th {\n",
       "        vertical-align: top;\n",
       "    }\n",
       "\n",
       "    .dataframe thead th {\n",
       "        text-align: right;\n",
       "    }\n",
       "</style>\n",
       "<table border=\"1\" class=\"dataframe\">\n",
       "  <thead>\n",
       "    <tr style=\"text-align: right;\">\n",
       "      <th></th>\n",
       "      <th>jobId</th>\n",
       "      <th>companyId</th>\n",
       "      <th>jobType</th>\n",
       "      <th>degree</th>\n",
       "      <th>major</th>\n",
       "      <th>industry</th>\n",
       "      <th>yearsExperience</th>\n",
       "      <th>milesFromMetropolis</th>\n",
       "    </tr>\n",
       "  </thead>\n",
       "  <tbody>\n",
       "    <tr>\n",
       "      <th>0</th>\n",
       "      <td>JOB1362684407687</td>\n",
       "      <td>COMP37</td>\n",
       "      <td>CFO</td>\n",
       "      <td>MASTERS</td>\n",
       "      <td>MATH</td>\n",
       "      <td>HEALTH</td>\n",
       "      <td>10</td>\n",
       "      <td>83</td>\n",
       "    </tr>\n",
       "    <tr>\n",
       "      <th>1</th>\n",
       "      <td>JOB1362684407688</td>\n",
       "      <td>COMP19</td>\n",
       "      <td>CEO</td>\n",
       "      <td>HIGH_SCHOOL</td>\n",
       "      <td>NONE</td>\n",
       "      <td>WEB</td>\n",
       "      <td>3</td>\n",
       "      <td>73</td>\n",
       "    </tr>\n",
       "    <tr>\n",
       "      <th>2</th>\n",
       "      <td>JOB1362684407689</td>\n",
       "      <td>COMP52</td>\n",
       "      <td>VICE_PRESIDENT</td>\n",
       "      <td>DOCTORAL</td>\n",
       "      <td>PHYSICS</td>\n",
       "      <td>HEALTH</td>\n",
       "      <td>10</td>\n",
       "      <td>38</td>\n",
       "    </tr>\n",
       "    <tr>\n",
       "      <th>3</th>\n",
       "      <td>JOB1362684407690</td>\n",
       "      <td>COMP38</td>\n",
       "      <td>MANAGER</td>\n",
       "      <td>DOCTORAL</td>\n",
       "      <td>CHEMISTRY</td>\n",
       "      <td>AUTO</td>\n",
       "      <td>8</td>\n",
       "      <td>17</td>\n",
       "    </tr>\n",
       "    <tr>\n",
       "      <th>4</th>\n",
       "      <td>JOB1362684407691</td>\n",
       "      <td>COMP7</td>\n",
       "      <td>VICE_PRESIDENT</td>\n",
       "      <td>BACHELORS</td>\n",
       "      <td>PHYSICS</td>\n",
       "      <td>FINANCE</td>\n",
       "      <td>8</td>\n",
       "      <td>16</td>\n",
       "    </tr>\n",
       "  </tbody>\n",
       "</table>\n",
       "</div>"
      ],
      "text/plain": [
       "              jobId companyId         jobType       degree      major  \\\n",
       "0  JOB1362684407687    COMP37             CFO      MASTERS       MATH   \n",
       "1  JOB1362684407688    COMP19             CEO  HIGH_SCHOOL       NONE   \n",
       "2  JOB1362684407689    COMP52  VICE_PRESIDENT     DOCTORAL    PHYSICS   \n",
       "3  JOB1362684407690    COMP38         MANAGER     DOCTORAL  CHEMISTRY   \n",
       "4  JOB1362684407691     COMP7  VICE_PRESIDENT    BACHELORS    PHYSICS   \n",
       "\n",
       "  industry  yearsExperience  milesFromMetropolis  \n",
       "0   HEALTH               10                   83  \n",
       "1      WEB                3                   73  \n",
       "2   HEALTH               10                   38  \n",
       "3     AUTO                8                   17  \n",
       "4  FINANCE                8                   16  "
      ]
     },
     "execution_count": 10,
     "metadata": {},
     "output_type": "execute_result"
    }
   ],
   "source": [
    "df_train_features.head()"
   ]
  },
  {
   "cell_type": "code",
   "execution_count": 11,
   "metadata": {},
   "outputs": [],
   "source": [
    "df_train = df_train_features.merge(df_train_salaries, on = 'jobId')"
   ]
  },
  {
   "cell_type": "code",
   "execution_count": 12,
   "metadata": {},
   "outputs": [],
   "source": [
    "df_train_salaries = df_train_salaries[df_train['salary'] != 0]"
   ]
  },
  {
   "cell_type": "code",
   "execution_count": 13,
   "metadata": {},
   "outputs": [],
   "source": [
    "df_train_features = df_train_features[df_train['salary'] != 0]"
   ]
  },
  {
   "cell_type": "code",
   "execution_count": 14,
   "metadata": {},
   "outputs": [
    {
     "data": {
      "text/html": [
       "<div>\n",
       "<style scoped>\n",
       "    .dataframe tbody tr th:only-of-type {\n",
       "        vertical-align: middle;\n",
       "    }\n",
       "\n",
       "    .dataframe tbody tr th {\n",
       "        vertical-align: top;\n",
       "    }\n",
       "\n",
       "    .dataframe thead th {\n",
       "        text-align: right;\n",
       "    }\n",
       "</style>\n",
       "<table border=\"1\" class=\"dataframe\">\n",
       "  <thead>\n",
       "    <tr style=\"text-align: right;\">\n",
       "      <th></th>\n",
       "      <th>jobId</th>\n",
       "      <th>companyId</th>\n",
       "      <th>jobType</th>\n",
       "      <th>degree</th>\n",
       "      <th>major</th>\n",
       "      <th>industry</th>\n",
       "      <th>yearsExperience</th>\n",
       "      <th>milesFromMetropolis</th>\n",
       "      <th>salary</th>\n",
       "    </tr>\n",
       "  </thead>\n",
       "  <tbody>\n",
       "    <tr>\n",
       "      <th>0</th>\n",
       "      <td>JOB1362684407687</td>\n",
       "      <td>COMP37</td>\n",
       "      <td>CFO</td>\n",
       "      <td>MASTERS</td>\n",
       "      <td>MATH</td>\n",
       "      <td>HEALTH</td>\n",
       "      <td>10</td>\n",
       "      <td>83</td>\n",
       "      <td>130</td>\n",
       "    </tr>\n",
       "    <tr>\n",
       "      <th>1</th>\n",
       "      <td>JOB1362684407688</td>\n",
       "      <td>COMP19</td>\n",
       "      <td>CEO</td>\n",
       "      <td>HIGH_SCHOOL</td>\n",
       "      <td>NONE</td>\n",
       "      <td>WEB</td>\n",
       "      <td>3</td>\n",
       "      <td>73</td>\n",
       "      <td>101</td>\n",
       "    </tr>\n",
       "    <tr>\n",
       "      <th>2</th>\n",
       "      <td>JOB1362684407689</td>\n",
       "      <td>COMP52</td>\n",
       "      <td>VICE_PRESIDENT</td>\n",
       "      <td>DOCTORAL</td>\n",
       "      <td>PHYSICS</td>\n",
       "      <td>HEALTH</td>\n",
       "      <td>10</td>\n",
       "      <td>38</td>\n",
       "      <td>137</td>\n",
       "    </tr>\n",
       "    <tr>\n",
       "      <th>3</th>\n",
       "      <td>JOB1362684407690</td>\n",
       "      <td>COMP38</td>\n",
       "      <td>MANAGER</td>\n",
       "      <td>DOCTORAL</td>\n",
       "      <td>CHEMISTRY</td>\n",
       "      <td>AUTO</td>\n",
       "      <td>8</td>\n",
       "      <td>17</td>\n",
       "      <td>142</td>\n",
       "    </tr>\n",
       "    <tr>\n",
       "      <th>4</th>\n",
       "      <td>JOB1362684407691</td>\n",
       "      <td>COMP7</td>\n",
       "      <td>VICE_PRESIDENT</td>\n",
       "      <td>BACHELORS</td>\n",
       "      <td>PHYSICS</td>\n",
       "      <td>FINANCE</td>\n",
       "      <td>8</td>\n",
       "      <td>16</td>\n",
       "      <td>163</td>\n",
       "    </tr>\n",
       "  </tbody>\n",
       "</table>\n",
       "</div>"
      ],
      "text/plain": [
       "              jobId companyId         jobType       degree      major  \\\n",
       "0  JOB1362684407687    COMP37             CFO      MASTERS       MATH   \n",
       "1  JOB1362684407688    COMP19             CEO  HIGH_SCHOOL       NONE   \n",
       "2  JOB1362684407689    COMP52  VICE_PRESIDENT     DOCTORAL    PHYSICS   \n",
       "3  JOB1362684407690    COMP38         MANAGER     DOCTORAL  CHEMISTRY   \n",
       "4  JOB1362684407691     COMP7  VICE_PRESIDENT    BACHELORS    PHYSICS   \n",
       "\n",
       "  industry  yearsExperience  milesFromMetropolis  salary  \n",
       "0   HEALTH               10                   83     130  \n",
       "1      WEB                3                   73     101  \n",
       "2   HEALTH               10                   38     137  \n",
       "3     AUTO                8                   17     142  \n",
       "4  FINANCE                8                   16     163  "
      ]
     },
     "execution_count": 14,
     "metadata": {},
     "output_type": "execute_result"
    }
   ],
   "source": [
    "df_train.head()"
   ]
  },
  {
   "cell_type": "markdown",
   "metadata": {},
   "source": [
    "### ---- 3 Clean the data ----"
   ]
  },
  {
   "cell_type": "code",
   "execution_count": 22,
   "metadata": {},
   "outputs": [
    {
     "data": {
      "text/html": [
       "<div>\n",
       "<style scoped>\n",
       "    .dataframe tbody tr th:only-of-type {\n",
       "        vertical-align: middle;\n",
       "    }\n",
       "\n",
       "    .dataframe tbody tr th {\n",
       "        vertical-align: top;\n",
       "    }\n",
       "\n",
       "    .dataframe thead th {\n",
       "        text-align: right;\n",
       "    }\n",
       "</style>\n",
       "<table border=\"1\" class=\"dataframe\">\n",
       "  <thead>\n",
       "    <tr style=\"text-align: right;\">\n",
       "      <th></th>\n",
       "      <th>yearsExperience</th>\n",
       "      <th>milesFromMetropolis</th>\n",
       "      <th>salary</th>\n",
       "    </tr>\n",
       "    <tr>\n",
       "      <th>companyId</th>\n",
       "      <th></th>\n",
       "      <th></th>\n",
       "      <th></th>\n",
       "    </tr>\n",
       "  </thead>\n",
       "  <tbody>\n",
       "    <tr>\n",
       "      <th>COMP0</th>\n",
       "      <td>12.075195</td>\n",
       "      <td>49.842206</td>\n",
       "      <td>115.963615</td>\n",
       "    </tr>\n",
       "    <tr>\n",
       "      <th>COMP1</th>\n",
       "      <td>11.902212</td>\n",
       "      <td>49.392225</td>\n",
       "      <td>116.048609</td>\n",
       "    </tr>\n",
       "    <tr>\n",
       "      <th>COMP10</th>\n",
       "      <td>11.878245</td>\n",
       "      <td>49.465774</td>\n",
       "      <td>116.019800</td>\n",
       "    </tr>\n",
       "    <tr>\n",
       "      <th>COMP11</th>\n",
       "      <td>12.021673</td>\n",
       "      <td>49.688697</td>\n",
       "      <td>116.113029</td>\n",
       "    </tr>\n",
       "    <tr>\n",
       "      <th>COMP12</th>\n",
       "      <td>12.041310</td>\n",
       "      <td>49.790788</td>\n",
       "      <td>116.086485</td>\n",
       "    </tr>\n",
       "    <tr>\n",
       "      <th>COMP13</th>\n",
       "      <td>12.101968</td>\n",
       "      <td>49.674417</td>\n",
       "      <td>116.561795</td>\n",
       "    </tr>\n",
       "    <tr>\n",
       "      <th>COMP14</th>\n",
       "      <td>12.053307</td>\n",
       "      <td>49.335617</td>\n",
       "      <td>116.303495</td>\n",
       "    </tr>\n",
       "    <tr>\n",
       "      <th>COMP15</th>\n",
       "      <td>11.923149</td>\n",
       "      <td>49.786114</td>\n",
       "      <td>115.847117</td>\n",
       "    </tr>\n",
       "    <tr>\n",
       "      <th>COMP16</th>\n",
       "      <td>11.980929</td>\n",
       "      <td>49.267947</td>\n",
       "      <td>116.358424</td>\n",
       "    </tr>\n",
       "    <tr>\n",
       "      <th>COMP17</th>\n",
       "      <td>11.904232</td>\n",
       "      <td>49.506204</td>\n",
       "      <td>116.315940</td>\n",
       "    </tr>\n",
       "    <tr>\n",
       "      <th>COMP18</th>\n",
       "      <td>11.900420</td>\n",
       "      <td>49.408410</td>\n",
       "      <td>115.597167</td>\n",
       "    </tr>\n",
       "    <tr>\n",
       "      <th>COMP19</th>\n",
       "      <td>11.882065</td>\n",
       "      <td>49.505953</td>\n",
       "      <td>115.756548</td>\n",
       "    </tr>\n",
       "    <tr>\n",
       "      <th>COMP2</th>\n",
       "      <td>12.040087</td>\n",
       "      <td>49.782814</td>\n",
       "      <td>116.759223</td>\n",
       "    </tr>\n",
       "    <tr>\n",
       "      <th>COMP20</th>\n",
       "      <td>12.021370</td>\n",
       "      <td>49.455877</td>\n",
       "      <td>115.934192</td>\n",
       "    </tr>\n",
       "    <tr>\n",
       "      <th>COMP21</th>\n",
       "      <td>11.940498</td>\n",
       "      <td>49.746128</td>\n",
       "      <td>116.539156</td>\n",
       "    </tr>\n",
       "    <tr>\n",
       "      <th>COMP22</th>\n",
       "      <td>11.964733</td>\n",
       "      <td>49.259383</td>\n",
       "      <td>116.207644</td>\n",
       "    </tr>\n",
       "    <tr>\n",
       "      <th>COMP23</th>\n",
       "      <td>11.980085</td>\n",
       "      <td>49.271705</td>\n",
       "      <td>116.261277</td>\n",
       "    </tr>\n",
       "    <tr>\n",
       "      <th>COMP24</th>\n",
       "      <td>11.962795</td>\n",
       "      <td>49.194050</td>\n",
       "      <td>116.176489</td>\n",
       "    </tr>\n",
       "    <tr>\n",
       "      <th>COMP25</th>\n",
       "      <td>11.974831</td>\n",
       "      <td>49.432400</td>\n",
       "      <td>116.232174</td>\n",
       "    </tr>\n",
       "    <tr>\n",
       "      <th>COMP26</th>\n",
       "      <td>11.997968</td>\n",
       "      <td>50.121651</td>\n",
       "      <td>115.959683</td>\n",
       "    </tr>\n",
       "    <tr>\n",
       "      <th>COMP27</th>\n",
       "      <td>11.952831</td>\n",
       "      <td>49.394979</td>\n",
       "      <td>115.953528</td>\n",
       "    </tr>\n",
       "    <tr>\n",
       "      <th>COMP28</th>\n",
       "      <td>11.977017</td>\n",
       "      <td>49.369697</td>\n",
       "      <td>115.943206</td>\n",
       "    </tr>\n",
       "    <tr>\n",
       "      <th>COMP29</th>\n",
       "      <td>12.004380</td>\n",
       "      <td>49.467437</td>\n",
       "      <td>116.387457</td>\n",
       "    </tr>\n",
       "    <tr>\n",
       "      <th>COMP3</th>\n",
       "      <td>12.033941</td>\n",
       "      <td>49.716995</td>\n",
       "      <td>116.199339</td>\n",
       "    </tr>\n",
       "    <tr>\n",
       "      <th>COMP30</th>\n",
       "      <td>11.930304</td>\n",
       "      <td>49.468425</td>\n",
       "      <td>115.659435</td>\n",
       "    </tr>\n",
       "    <tr>\n",
       "      <th>COMP31</th>\n",
       "      <td>11.944021</td>\n",
       "      <td>49.985212</td>\n",
       "      <td>115.622239</td>\n",
       "    </tr>\n",
       "    <tr>\n",
       "      <th>COMP32</th>\n",
       "      <td>12.022559</td>\n",
       "      <td>49.627334</td>\n",
       "      <td>115.974370</td>\n",
       "    </tr>\n",
       "    <tr>\n",
       "      <th>COMP33</th>\n",
       "      <td>12.040820</td>\n",
       "      <td>49.765205</td>\n",
       "      <td>116.019619</td>\n",
       "    </tr>\n",
       "    <tr>\n",
       "      <th>COMP34</th>\n",
       "      <td>12.031436</td>\n",
       "      <td>49.371600</td>\n",
       "      <td>116.394813</td>\n",
       "    </tr>\n",
       "    <tr>\n",
       "      <th>COMP35</th>\n",
       "      <td>11.940921</td>\n",
       "      <td>49.581730</td>\n",
       "      <td>115.774668</td>\n",
       "    </tr>\n",
       "    <tr>\n",
       "      <th>...</th>\n",
       "      <td>...</td>\n",
       "      <td>...</td>\n",
       "      <td>...</td>\n",
       "    </tr>\n",
       "    <tr>\n",
       "      <th>COMP39</th>\n",
       "      <td>11.965047</td>\n",
       "      <td>49.647626</td>\n",
       "      <td>116.087075</td>\n",
       "    </tr>\n",
       "    <tr>\n",
       "      <th>COMP4</th>\n",
       "      <td>11.923483</td>\n",
       "      <td>49.586506</td>\n",
       "      <td>116.230808</td>\n",
       "    </tr>\n",
       "    <tr>\n",
       "      <th>COMP40</th>\n",
       "      <td>11.983821</td>\n",
       "      <td>49.203961</td>\n",
       "      <td>116.783171</td>\n",
       "    </tr>\n",
       "    <tr>\n",
       "      <th>COMP41</th>\n",
       "      <td>12.077180</td>\n",
       "      <td>49.658049</td>\n",
       "      <td>116.515543</td>\n",
       "    </tr>\n",
       "    <tr>\n",
       "      <th>COMP42</th>\n",
       "      <td>12.026844</td>\n",
       "      <td>49.933455</td>\n",
       "      <td>115.476794</td>\n",
       "    </tr>\n",
       "    <tr>\n",
       "      <th>COMP43</th>\n",
       "      <td>12.034347</td>\n",
       "      <td>49.344594</td>\n",
       "      <td>115.800063</td>\n",
       "    </tr>\n",
       "    <tr>\n",
       "      <th>COMP44</th>\n",
       "      <td>11.956826</td>\n",
       "      <td>49.193190</td>\n",
       "      <td>116.673602</td>\n",
       "    </tr>\n",
       "    <tr>\n",
       "      <th>COMP45</th>\n",
       "      <td>12.048454</td>\n",
       "      <td>49.752555</td>\n",
       "      <td>115.649274</td>\n",
       "    </tr>\n",
       "    <tr>\n",
       "      <th>COMP46</th>\n",
       "      <td>12.049665</td>\n",
       "      <td>49.774973</td>\n",
       "      <td>116.043715</td>\n",
       "    </tr>\n",
       "    <tr>\n",
       "      <th>COMP47</th>\n",
       "      <td>12.026272</td>\n",
       "      <td>49.425994</td>\n",
       "      <td>115.948785</td>\n",
       "    </tr>\n",
       "    <tr>\n",
       "      <th>COMP48</th>\n",
       "      <td>12.058757</td>\n",
       "      <td>49.723729</td>\n",
       "      <td>115.793660</td>\n",
       "    </tr>\n",
       "    <tr>\n",
       "      <th>COMP49</th>\n",
       "      <td>12.091894</td>\n",
       "      <td>49.481209</td>\n",
       "      <td>116.269535</td>\n",
       "    </tr>\n",
       "    <tr>\n",
       "      <th>COMP5</th>\n",
       "      <td>11.939803</td>\n",
       "      <td>49.137929</td>\n",
       "      <td>115.906191</td>\n",
       "    </tr>\n",
       "    <tr>\n",
       "      <th>COMP50</th>\n",
       "      <td>12.042809</td>\n",
       "      <td>49.874106</td>\n",
       "      <td>115.872459</td>\n",
       "    </tr>\n",
       "    <tr>\n",
       "      <th>COMP51</th>\n",
       "      <td>12.120962</td>\n",
       "      <td>49.531334</td>\n",
       "      <td>116.290222</td>\n",
       "    </tr>\n",
       "    <tr>\n",
       "      <th>COMP52</th>\n",
       "      <td>11.904048</td>\n",
       "      <td>49.200292</td>\n",
       "      <td>116.224249</td>\n",
       "    </tr>\n",
       "    <tr>\n",
       "      <th>COMP53</th>\n",
       "      <td>12.053753</td>\n",
       "      <td>49.402193</td>\n",
       "      <td>115.342355</td>\n",
       "    </tr>\n",
       "    <tr>\n",
       "      <th>COMP54</th>\n",
       "      <td>11.963135</td>\n",
       "      <td>49.633786</td>\n",
       "      <td>115.589785</td>\n",
       "    </tr>\n",
       "    <tr>\n",
       "      <th>COMP55</th>\n",
       "      <td>11.888438</td>\n",
       "      <td>49.419674</td>\n",
       "      <td>115.623708</td>\n",
       "    </tr>\n",
       "    <tr>\n",
       "      <th>COMP56</th>\n",
       "      <td>12.025283</td>\n",
       "      <td>49.466612</td>\n",
       "      <td>116.134865</td>\n",
       "    </tr>\n",
       "    <tr>\n",
       "      <th>COMP57</th>\n",
       "      <td>11.920243</td>\n",
       "      <td>49.864918</td>\n",
       "      <td>115.393540</td>\n",
       "    </tr>\n",
       "    <tr>\n",
       "      <th>COMP58</th>\n",
       "      <td>12.066600</td>\n",
       "      <td>49.096360</td>\n",
       "      <td>116.446275</td>\n",
       "    </tr>\n",
       "    <tr>\n",
       "      <th>COMP59</th>\n",
       "      <td>11.996888</td>\n",
       "      <td>49.550106</td>\n",
       "      <td>115.870161</td>\n",
       "    </tr>\n",
       "    <tr>\n",
       "      <th>COMP6</th>\n",
       "      <td>12.022290</td>\n",
       "      <td>49.571762</td>\n",
       "      <td>116.146998</td>\n",
       "    </tr>\n",
       "    <tr>\n",
       "      <th>COMP60</th>\n",
       "      <td>11.890753</td>\n",
       "      <td>49.680676</td>\n",
       "      <td>116.236407</td>\n",
       "    </tr>\n",
       "    <tr>\n",
       "      <th>COMP61</th>\n",
       "      <td>11.983757</td>\n",
       "      <td>49.283276</td>\n",
       "      <td>116.318607</td>\n",
       "    </tr>\n",
       "    <tr>\n",
       "      <th>COMP62</th>\n",
       "      <td>12.014928</td>\n",
       "      <td>49.491877</td>\n",
       "      <td>116.279872</td>\n",
       "    </tr>\n",
       "    <tr>\n",
       "      <th>COMP7</th>\n",
       "      <td>11.968986</td>\n",
       "      <td>49.624152</td>\n",
       "      <td>115.888501</td>\n",
       "    </tr>\n",
       "    <tr>\n",
       "      <th>COMP8</th>\n",
       "      <td>12.043995</td>\n",
       "      <td>49.430234</td>\n",
       "      <td>115.989641</td>\n",
       "    </tr>\n",
       "    <tr>\n",
       "      <th>COMP9</th>\n",
       "      <td>12.001939</td>\n",
       "      <td>49.203277</td>\n",
       "      <td>116.453340</td>\n",
       "    </tr>\n",
       "  </tbody>\n",
       "</table>\n",
       "<p>63 rows × 3 columns</p>\n",
       "</div>"
      ],
      "text/plain": [
       "           yearsExperience  milesFromMetropolis      salary\n",
       "companyId                                                  \n",
       "COMP0            12.075195            49.842206  115.963615\n",
       "COMP1            11.902212            49.392225  116.048609\n",
       "COMP10           11.878245            49.465774  116.019800\n",
       "COMP11           12.021673            49.688697  116.113029\n",
       "COMP12           12.041310            49.790788  116.086485\n",
       "COMP13           12.101968            49.674417  116.561795\n",
       "COMP14           12.053307            49.335617  116.303495\n",
       "COMP15           11.923149            49.786114  115.847117\n",
       "COMP16           11.980929            49.267947  116.358424\n",
       "COMP17           11.904232            49.506204  116.315940\n",
       "COMP18           11.900420            49.408410  115.597167\n",
       "COMP19           11.882065            49.505953  115.756548\n",
       "COMP2            12.040087            49.782814  116.759223\n",
       "COMP20           12.021370            49.455877  115.934192\n",
       "COMP21           11.940498            49.746128  116.539156\n",
       "COMP22           11.964733            49.259383  116.207644\n",
       "COMP23           11.980085            49.271705  116.261277\n",
       "COMP24           11.962795            49.194050  116.176489\n",
       "COMP25           11.974831            49.432400  116.232174\n",
       "COMP26           11.997968            50.121651  115.959683\n",
       "COMP27           11.952831            49.394979  115.953528\n",
       "COMP28           11.977017            49.369697  115.943206\n",
       "COMP29           12.004380            49.467437  116.387457\n",
       "COMP3            12.033941            49.716995  116.199339\n",
       "COMP30           11.930304            49.468425  115.659435\n",
       "COMP31           11.944021            49.985212  115.622239\n",
       "COMP32           12.022559            49.627334  115.974370\n",
       "COMP33           12.040820            49.765205  116.019619\n",
       "COMP34           12.031436            49.371600  116.394813\n",
       "COMP35           11.940921            49.581730  115.774668\n",
       "...                    ...                  ...         ...\n",
       "COMP39           11.965047            49.647626  116.087075\n",
       "COMP4            11.923483            49.586506  116.230808\n",
       "COMP40           11.983821            49.203961  116.783171\n",
       "COMP41           12.077180            49.658049  116.515543\n",
       "COMP42           12.026844            49.933455  115.476794\n",
       "COMP43           12.034347            49.344594  115.800063\n",
       "COMP44           11.956826            49.193190  116.673602\n",
       "COMP45           12.048454            49.752555  115.649274\n",
       "COMP46           12.049665            49.774973  116.043715\n",
       "COMP47           12.026272            49.425994  115.948785\n",
       "COMP48           12.058757            49.723729  115.793660\n",
       "COMP49           12.091894            49.481209  116.269535\n",
       "COMP5            11.939803            49.137929  115.906191\n",
       "COMP50           12.042809            49.874106  115.872459\n",
       "COMP51           12.120962            49.531334  116.290222\n",
       "COMP52           11.904048            49.200292  116.224249\n",
       "COMP53           12.053753            49.402193  115.342355\n",
       "COMP54           11.963135            49.633786  115.589785\n",
       "COMP55           11.888438            49.419674  115.623708\n",
       "COMP56           12.025283            49.466612  116.134865\n",
       "COMP57           11.920243            49.864918  115.393540\n",
       "COMP58           12.066600            49.096360  116.446275\n",
       "COMP59           11.996888            49.550106  115.870161\n",
       "COMP6            12.022290            49.571762  116.146998\n",
       "COMP60           11.890753            49.680676  116.236407\n",
       "COMP61           11.983757            49.283276  116.318607\n",
       "COMP62           12.014928            49.491877  116.279872\n",
       "COMP7            11.968986            49.624152  115.888501\n",
       "COMP8            12.043995            49.430234  115.989641\n",
       "COMP9            12.001939            49.203277  116.453340\n",
       "\n",
       "[63 rows x 3 columns]"
      ]
     },
     "execution_count": 22,
     "metadata": {},
     "output_type": "execute_result"
    }
   ],
   "source": [
    "df_train.groupby('companyId').mean()"
   ]
  },
  {
   "cell_type": "code",
   "execution_count": 15,
   "metadata": {},
   "outputs": [
    {
     "data": {
      "text/html": [
       "<div>\n",
       "<style scoped>\n",
       "    .dataframe tbody tr th:only-of-type {\n",
       "        vertical-align: middle;\n",
       "    }\n",
       "\n",
       "    .dataframe tbody tr th {\n",
       "        vertical-align: top;\n",
       "    }\n",
       "\n",
       "    .dataframe thead th {\n",
       "        text-align: right;\n",
       "    }\n",
       "</style>\n",
       "<table border=\"1\" class=\"dataframe\">\n",
       "  <thead>\n",
       "    <tr style=\"text-align: right;\">\n",
       "      <th></th>\n",
       "      <th>yearsExperience</th>\n",
       "      <th>milesFromMetropolis</th>\n",
       "      <th>salary</th>\n",
       "    </tr>\n",
       "    <tr>\n",
       "      <th>major</th>\n",
       "      <th></th>\n",
       "      <th></th>\n",
       "      <th></th>\n",
       "    </tr>\n",
       "  </thead>\n",
       "  <tbody>\n",
       "    <tr>\n",
       "      <th>BIOLOGY</th>\n",
       "      <td>11.991213</td>\n",
       "      <td>49.524487</td>\n",
       "      <td>127.932664</td>\n",
       "    </tr>\n",
       "    <tr>\n",
       "      <th>BUSINESS</th>\n",
       "      <td>12.011244</td>\n",
       "      <td>49.630251</td>\n",
       "      <td>135.648980</td>\n",
       "    </tr>\n",
       "    <tr>\n",
       "      <th>CHEMISTRY</th>\n",
       "      <td>11.975185</td>\n",
       "      <td>49.553104</td>\n",
       "      <td>129.072085</td>\n",
       "    </tr>\n",
       "    <tr>\n",
       "      <th>COMPSCI</th>\n",
       "      <td>11.979086</td>\n",
       "      <td>49.676099</td>\n",
       "      <td>132.075605</td>\n",
       "    </tr>\n",
       "    <tr>\n",
       "      <th>ENGINEERING</th>\n",
       "      <td>11.987832</td>\n",
       "      <td>49.576524</td>\n",
       "      <td>138.436617</td>\n",
       "    </tr>\n",
       "    <tr>\n",
       "      <th>LITERATURE</th>\n",
       "      <td>12.010991</td>\n",
       "      <td>49.694363</td>\n",
       "      <td>124.423097</td>\n",
       "    </tr>\n",
       "    <tr>\n",
       "      <th>MATH</th>\n",
       "      <td>11.992249</td>\n",
       "      <td>49.422311</td>\n",
       "      <td>133.319735</td>\n",
       "    </tr>\n",
       "    <tr>\n",
       "      <th>NONE</th>\n",
       "      <td>11.993119</td>\n",
       "      <td>49.485332</td>\n",
       "      <td>102.583479</td>\n",
       "    </tr>\n",
       "    <tr>\n",
       "      <th>PHYSICS</th>\n",
       "      <td>11.984626</td>\n",
       "      <td>49.554956</td>\n",
       "      <td>130.372436</td>\n",
       "    </tr>\n",
       "  </tbody>\n",
       "</table>\n",
       "</div>"
      ],
      "text/plain": [
       "             yearsExperience  milesFromMetropolis      salary\n",
       "major                                                        \n",
       "BIOLOGY            11.991213            49.524487  127.932664\n",
       "BUSINESS           12.011244            49.630251  135.648980\n",
       "CHEMISTRY          11.975185            49.553104  129.072085\n",
       "COMPSCI            11.979086            49.676099  132.075605\n",
       "ENGINEERING        11.987832            49.576524  138.436617\n",
       "LITERATURE         12.010991            49.694363  124.423097\n",
       "MATH               11.992249            49.422311  133.319735\n",
       "NONE               11.993119            49.485332  102.583479\n",
       "PHYSICS            11.984626            49.554956  130.372436"
      ]
     },
     "execution_count": 15,
     "metadata": {},
     "output_type": "execute_result"
    }
   ],
   "source": [
    "df_train.groupby('major').mean()"
   ]
  },
  {
   "cell_type": "code",
   "execution_count": 16,
   "metadata": {},
   "outputs": [
    {
     "data": {
      "text/html": [
       "<div>\n",
       "<style scoped>\n",
       "    .dataframe tbody tr th:only-of-type {\n",
       "        vertical-align: middle;\n",
       "    }\n",
       "\n",
       "    .dataframe tbody tr th {\n",
       "        vertical-align: top;\n",
       "    }\n",
       "\n",
       "    .dataframe thead th {\n",
       "        text-align: right;\n",
       "    }\n",
       "</style>\n",
       "<table border=\"1\" class=\"dataframe\">\n",
       "  <thead>\n",
       "    <tr style=\"text-align: right;\">\n",
       "      <th></th>\n",
       "      <th>yearsExperience</th>\n",
       "      <th>milesFromMetropolis</th>\n",
       "      <th>salary</th>\n",
       "    </tr>\n",
       "    <tr>\n",
       "      <th>jobType</th>\n",
       "      <th></th>\n",
       "      <th></th>\n",
       "      <th></th>\n",
       "    </tr>\n",
       "  </thead>\n",
       "  <tbody>\n",
       "    <tr>\n",
       "      <th>CEO</th>\n",
       "      <td>11.998269</td>\n",
       "      <td>49.478458</td>\n",
       "      <td>145.311425</td>\n",
       "    </tr>\n",
       "    <tr>\n",
       "      <th>CFO</th>\n",
       "      <td>11.990440</td>\n",
       "      <td>49.572715</td>\n",
       "      <td>135.458547</td>\n",
       "    </tr>\n",
       "    <tr>\n",
       "      <th>CTO</th>\n",
       "      <td>12.010812</td>\n",
       "      <td>49.580930</td>\n",
       "      <td>135.479983</td>\n",
       "    </tr>\n",
       "    <tr>\n",
       "      <th>JANITOR</th>\n",
       "      <td>11.969657</td>\n",
       "      <td>49.443815</td>\n",
       "      <td>70.813045</td>\n",
       "    </tr>\n",
       "    <tr>\n",
       "      <th>JUNIOR</th>\n",
       "      <td>11.992287</td>\n",
       "      <td>49.659968</td>\n",
       "      <td>95.331557</td>\n",
       "    </tr>\n",
       "    <tr>\n",
       "      <th>MANAGER</th>\n",
       "      <td>11.987332</td>\n",
       "      <td>49.498006</td>\n",
       "      <td>115.367596</td>\n",
       "    </tr>\n",
       "    <tr>\n",
       "      <th>SENIOR</th>\n",
       "      <td>11.996624</td>\n",
       "      <td>49.572558</td>\n",
       "      <td>105.487775</td>\n",
       "    </tr>\n",
       "    <tr>\n",
       "      <th>VICE_PRESIDENT</th>\n",
       "      <td>11.993628</td>\n",
       "      <td>49.428059</td>\n",
       "      <td>125.367629</td>\n",
       "    </tr>\n",
       "  </tbody>\n",
       "</table>\n",
       "</div>"
      ],
      "text/plain": [
       "                yearsExperience  milesFromMetropolis      salary\n",
       "jobType                                                         \n",
       "CEO                   11.998269            49.478458  145.311425\n",
       "CFO                   11.990440            49.572715  135.458547\n",
       "CTO                   12.010812            49.580930  135.479983\n",
       "JANITOR               11.969657            49.443815   70.813045\n",
       "JUNIOR                11.992287            49.659968   95.331557\n",
       "MANAGER               11.987332            49.498006  115.367596\n",
       "SENIOR                11.996624            49.572558  105.487775\n",
       "VICE_PRESIDENT        11.993628            49.428059  125.367629"
      ]
     },
     "execution_count": 16,
     "metadata": {},
     "output_type": "execute_result"
    }
   ],
   "source": [
    "df_train.groupby('jobType').mean()"
   ]
  },
  {
   "cell_type": "code",
   "execution_count": 18,
   "metadata": {},
   "outputs": [
    {
     "data": {
      "text/html": [
       "<div>\n",
       "<style scoped>\n",
       "    .dataframe tbody tr th:only-of-type {\n",
       "        vertical-align: middle;\n",
       "    }\n",
       "\n",
       "    .dataframe tbody tr th {\n",
       "        vertical-align: top;\n",
       "    }\n",
       "\n",
       "    .dataframe thead th {\n",
       "        text-align: right;\n",
       "    }\n",
       "</style>\n",
       "<table border=\"1\" class=\"dataframe\">\n",
       "  <thead>\n",
       "    <tr style=\"text-align: right;\">\n",
       "      <th></th>\n",
       "      <th>yearsExperience</th>\n",
       "      <th>milesFromMetropolis</th>\n",
       "      <th>salary</th>\n",
       "    </tr>\n",
       "    <tr>\n",
       "      <th>degree</th>\n",
       "      <th></th>\n",
       "      <th></th>\n",
       "      <th></th>\n",
       "    </tr>\n",
       "  </thead>\n",
       "  <tbody>\n",
       "    <tr>\n",
       "      <th>DOCTORAL</th>\n",
       "      <td>12.003307</td>\n",
       "      <td>49.608529</td>\n",
       "      <td>135.489433</td>\n",
       "    </tr>\n",
       "    <tr>\n",
       "      <th>MASTERS</th>\n",
       "      <td>11.984935</td>\n",
       "      <td>49.553947</td>\n",
       "      <td>130.504903</td>\n",
       "    </tr>\n",
       "    <tr>\n",
       "      <th>BACHELORS</th>\n",
       "      <td>11.986045</td>\n",
       "      <td>49.589646</td>\n",
       "      <td>125.454663</td>\n",
       "    </tr>\n",
       "    <tr>\n",
       "      <th>HIGH_SCHOOL</th>\n",
       "      <td>11.995493</td>\n",
       "      <td>49.459355</td>\n",
       "      <td>101.920654</td>\n",
       "    </tr>\n",
       "    <tr>\n",
       "      <th>NONE</th>\n",
       "      <td>11.991404</td>\n",
       "      <td>49.477497</td>\n",
       "      <td>98.176467</td>\n",
       "    </tr>\n",
       "  </tbody>\n",
       "</table>\n",
       "</div>"
      ],
      "text/plain": [
       "             yearsExperience  milesFromMetropolis      salary\n",
       "degree                                                       \n",
       "DOCTORAL           12.003307            49.608529  135.489433\n",
       "MASTERS            11.984935            49.553947  130.504903\n",
       "BACHELORS          11.986045            49.589646  125.454663\n",
       "HIGH_SCHOOL        11.995493            49.459355  101.920654\n",
       "NONE               11.991404            49.477497   98.176467"
      ]
     },
     "execution_count": 18,
     "metadata": {},
     "output_type": "execute_result"
    }
   ],
   "source": [
    "education = df_train.groupby('degree').mean().sort_values(by  = 'salary', ascending = False)\n",
    "education"
   ]
  },
  {
   "cell_type": "code",
   "execution_count": 19,
   "metadata": {
    "scrolled": true
   },
   "outputs": [
    {
     "data": {
      "text/plain": [
       "degree\n",
       "DOCTORAL       135.489433\n",
       "MASTERS        130.504903\n",
       "BACHELORS      125.454663\n",
       "HIGH_SCHOOL    101.920654\n",
       "NONE            98.176467\n",
       "Name: salary, dtype: float64"
      ]
     },
     "execution_count": 19,
     "metadata": {},
     "output_type": "execute_result"
    }
   ],
   "source": [
    "education['salary']"
   ]
  },
  {
   "cell_type": "code",
   "execution_count": 20,
   "metadata": {},
   "outputs": [
    {
     "data": {
      "text/plain": [
       "<matplotlib.axes._subplots.AxesSubplot at 0x7f485db1b4a8>"
      ]
     },
     "execution_count": 20,
     "metadata": {},
     "output_type": "execute_result"
    },
    {
     "data": {
      "image/png": "[encoded data removed]",
      "text/plain": [
       "<Figure size 432x288 with 1 Axes>"
      ]
     },
     "metadata": {
      "needs_background": "light"
     },
     "output_type": "display_data"
    }
   ],
   "source": [
    "sns.barplot(x = education['salary'], y = education.index) "
   ]
  },
  {
   "cell_type": "code",
   "execution_count": 21,
   "metadata": {},
   "outputs": [],
   "source": [
    "jobType = df_train.groupby('jobType').mean().sort_values(by = 'salary', ascending = False)"
   ]
  },
  {
   "cell_type": "code",
   "execution_count": 22,
   "metadata": {},
   "outputs": [
    {
     "data": {
      "text/plain": [
       "<matplotlib.axes._subplots.AxesSubplot at 0x7f486403c3c8>"
      ]
     },
     "execution_count": 22,
     "metadata": {},
     "output_type": "execute_result"
    },
    {
     "data": {
      "image/png": "[encoded data removed]",
      "text/plain": [
       "<Figure size 432x288 with 1 Axes>"
      ]
     },
     "metadata": {
      "needs_background": "light"
     },
     "output_type": "display_data"
    }
   ],
   "source": [
    "sns.barplot( y =jobType.index, x =   jobType['salary'])"
   ]
  },
  {
   "cell_type": "code",
   "execution_count": null,
   "metadata": {},
   "outputs": [],
   "source": [
    " = "
   ]
  },
  {
   "cell_type": "code",
   "execution_count": 23,
   "metadata": {},
   "outputs": [],
   "source": [
    "major = df_train.groupby('major').mean().sort_values(by = 'salary', ascending = False)"
   ]
  },
  {
   "cell_type": "code",
   "execution_count": 24,
   "metadata": {},
   "outputs": [
    {
     "data": {
      "text/plain": [
       "<matplotlib.axes._subplots.AxesSubplot at 0x7f4863fa0198>"
      ]
     },
     "execution_count": 24,
     "metadata": {},
     "output_type": "execute_result"
    },
    {
     "data": {
      "image/png": "[encoded data removed]",
      "text/plain": [
       "<Figure size 432x288 with 1 Axes>"
      ]
     },
     "metadata": {
      "needs_background": "light"
     },
     "output_type": "display_data"
    }
   ],
   "source": [
    "sns.barplot( y =major.index, x =   major['salary'])"
   ]
  },
  {
   "cell_type": "code",
   "execution_count": 25,
   "metadata": {},
   "outputs": [
    {
     "data": {
      "text/plain": [
       "<matplotlib.axes._subplots.AxesSubplot at 0x7f4860d45390>"
      ]
     },
     "execution_count": 25,
     "metadata": {},
     "output_type": "execute_result"
    },
    {
     "data": {
      "image/png": "[encoded data removed]",
      "text/plain": [
       "<Figure size 432x288 with 1 Axes>"
      ]
     },
     "metadata": {
      "needs_background": "light"
     },
     "output_type": "display_data"
    }
   ],
   "source": [
    "sns.boxplot(y = major.index, x = major['salary'])"
   ]
  },
  {
   "cell_type": "code",
   "execution_count": 26,
   "metadata": {},
   "outputs": [],
   "source": [
    "industry = df_train.groupby('industry').mean().sort_values(by = 'salary', ascending = False)"
   ]
  },
  {
   "cell_type": "code",
   "execution_count": 27,
   "metadata": {},
   "outputs": [
    {
     "data": {
      "text/plain": [
       "<matplotlib.axes._subplots.AxesSubplot at 0x7f4863e1fc88>"
      ]
     },
     "execution_count": 27,
     "metadata": {},
     "output_type": "execute_result"
    },
    {
     "data": {
      "image/png": "[encoded data removed]",
      "text/plain": [
       "<Figure size 432x288 with 1 Axes>"
      ]
     },
     "metadata": {
      "needs_background": "light"
     },
     "output_type": "display_data"
    }
   ],
   "source": [
    "sns.barplot( y =industry.index, x =   industry['salary'])"
   ]
  },
  {
   "cell_type": "code",
   "execution_count": 28,
   "metadata": {},
   "outputs": [
    {
     "data": {
      "text/plain": [
       "<matplotlib.axes._subplots.AxesSubplot at 0x7f4860f2d9e8>"
      ]
     },
     "execution_count": 28,
     "metadata": {},
     "output_type": "execute_result"
    },
    {
     "data": {
      "image/png": "[encoded data removed]",
      "text/plain": [
       "<Figure size 432x288 with 1 Axes>"
      ]
     },
     "metadata": {
      "needs_background": "light"
     },
     "output_type": "display_data"
    }
   ],
   "source": [
    "sns.boxplot(y = industry.index, x = industry['salary'])"
   ]
  },
  {
   "cell_type": "code",
   "execution_count": 29,
   "metadata": {},
   "outputs": [
    {
     "data": {
      "text/plain": [
       "<matplotlib.axes._subplots.AxesSubplot at 0x7f4860e71cf8>"
      ]
     },
     "execution_count": 29,
     "metadata": {},
     "output_type": "execute_result"
    },
    {
     "data": {
      "image/png": "[encoded data removed]",
      "text/plain": [
       "<Figure size 432x288 with 1 Axes>"
      ]
     },
     "metadata": {
      "needs_background": "light"
     },
     "output_type": "display_data"
    }
   ],
   "source": [
    "sns.boxplot(x = df_train['salary'])"
   ]
  },
  {
   "cell_type": "code",
   "execution_count": 30,
   "metadata": {},
   "outputs": [
    {
     "data": {
      "text/plain": [
       "<matplotlib.axes._subplots.AxesSubplot at 0x7f4860e50278>"
      ]
     },
     "execution_count": 30,
     "metadata": {},
     "output_type": "execute_result"
    },
    {
     "data": {
      "image/png": "[encoded data removed]",
      "text/plain": [
       "<Figure size 432x288 with 1 Axes>"
      ]
     },
     "metadata": {
      "needs_background": "light"
     },
     "output_type": "display_data"
    }
   ],
   "source": [
    "sns.distplot(df_train['salary'])"
   ]
  },
  {
   "cell_type": "markdown",
   "metadata": {},
   "source": [
    "### ---- 4 Explore the data (EDA) ----"
   ]
  },
  {
   "cell_type": "code",
   "execution_count": 3,
   "metadata": {},
   "outputs": [],
   "source": [
    "#summarize each feature variable\n",
    "#summarize the target variable\n",
    "#look for correlation between each feature and the target\n",
    "#look for correlation between features"
   ]
  },
  {
   "cell_type": "code",
   "execution_count": 58,
   "metadata": {},
   "outputs": [
    {
     "data": {
      "text/html": [
       "<div>\n",
       "<style scoped>\n",
       "    .dataframe tbody tr th:only-of-type {\n",
       "        vertical-align: middle;\n",
       "    }\n",
       "\n",
       "    .dataframe tbody tr th {\n",
       "        vertical-align: top;\n",
       "    }\n",
       "\n",
       "    .dataframe thead th {\n",
       "        text-align: right;\n",
       "    }\n",
       "</style>\n",
       "<table border=\"1\" class=\"dataframe\">\n",
       "  <thead>\n",
       "    <tr style=\"text-align: right;\">\n",
       "      <th></th>\n",
       "      <th>yearsExperience</th>\n",
       "      <th>milesFromMetropolis</th>\n",
       "      <th>salary</th>\n",
       "    </tr>\n",
       "  </thead>\n",
       "  <tbody>\n",
       "    <tr>\n",
       "      <th>yearsExperience</th>\n",
       "      <td>1.000000</td>\n",
       "      <td>0.000673</td>\n",
       "      <td>0.375013</td>\n",
       "    </tr>\n",
       "    <tr>\n",
       "      <th>milesFromMetropolis</th>\n",
       "      <td>0.000673</td>\n",
       "      <td>1.000000</td>\n",
       "      <td>-0.297666</td>\n",
       "    </tr>\n",
       "    <tr>\n",
       "      <th>salary</th>\n",
       "      <td>0.375013</td>\n",
       "      <td>-0.297666</td>\n",
       "      <td>1.000000</td>\n",
       "    </tr>\n",
       "  </tbody>\n",
       "</table>\n",
       "</div>"
      ],
      "text/plain": [
       "                     yearsExperience  milesFromMetropolis    salary\n",
       "yearsExperience             1.000000             0.000673  0.375013\n",
       "milesFromMetropolis         0.000673             1.000000 -0.297666\n",
       "salary                      0.375013            -0.297666  1.000000"
      ]
     },
     "execution_count": 58,
     "metadata": {},
     "output_type": "execute_result"
    }
   ],
   "source": [
    "df_train.corr()"
   ]
  },
  {
   "cell_type": "code",
   "execution_count": 70,
   "metadata": {},
   "outputs": [
    {
     "data": {
      "text/html": [
       "<div>\n",
       "<style scoped>\n",
       "    .dataframe tbody tr th:only-of-type {\n",
       "        vertical-align: middle;\n",
       "    }\n",
       "\n",
       "    .dataframe tbody tr th {\n",
       "        vertical-align: top;\n",
       "    }\n",
       "\n",
       "    .dataframe thead th {\n",
       "        text-align: right;\n",
       "    }\n",
       "</style>\n",
       "<table border=\"1\" class=\"dataframe\">\n",
       "  <thead>\n",
       "    <tr style=\"text-align: right;\">\n",
       "      <th></th>\n",
       "      <th>jobId</th>\n",
       "      <th>companyId</th>\n",
       "      <th>jobType</th>\n",
       "      <th>degree</th>\n",
       "      <th>major</th>\n",
       "      <th>industry</th>\n",
       "      <th>yearsExperience</th>\n",
       "      <th>milesFromMetropolis</th>\n",
       "      <th>salary</th>\n",
       "    </tr>\n",
       "  </thead>\n",
       "  <tbody>\n",
       "    <tr>\n",
       "      <th>count</th>\n",
       "      <td>1000000</td>\n",
       "      <td>1000000</td>\n",
       "      <td>1000000</td>\n",
       "      <td>1000000</td>\n",
       "      <td>1000000</td>\n",
       "      <td>1000000</td>\n",
       "      <td>1000000.000000</td>\n",
       "      <td>1000000.000000</td>\n",
       "      <td>1000000.000000</td>\n",
       "    </tr>\n",
       "    <tr>\n",
       "      <th>unique</th>\n",
       "      <td>1000000</td>\n",
       "      <td>63</td>\n",
       "      <td>8</td>\n",
       "      <td>5</td>\n",
       "      <td>9</td>\n",
       "      <td>7</td>\n",
       "      <td>NaN</td>\n",
       "      <td>NaN</td>\n",
       "      <td>NaN</td>\n",
       "    </tr>\n",
       "    <tr>\n",
       "      <th>top</th>\n",
       "      <td>JOB1362685061665</td>\n",
       "      <td>COMP39</td>\n",
       "      <td>SENIOR</td>\n",
       "      <td>HIGH_SCHOOL</td>\n",
       "      <td>NONE</td>\n",
       "      <td>WEB</td>\n",
       "      <td>NaN</td>\n",
       "      <td>NaN</td>\n",
       "      <td>NaN</td>\n",
       "    </tr>\n",
       "    <tr>\n",
       "      <th>freq</th>\n",
       "      <td>1</td>\n",
       "      <td>16193</td>\n",
       "      <td>125886</td>\n",
       "      <td>236976</td>\n",
       "      <td>532355</td>\n",
       "      <td>143206</td>\n",
       "      <td>NaN</td>\n",
       "      <td>NaN</td>\n",
       "      <td>NaN</td>\n",
       "    </tr>\n",
       "    <tr>\n",
       "      <th>mean</th>\n",
       "      <td>NaN</td>\n",
       "      <td>NaN</td>\n",
       "      <td>NaN</td>\n",
       "      <td>NaN</td>\n",
       "      <td>NaN</td>\n",
       "      <td>NaN</td>\n",
       "      <td>11.992386</td>\n",
       "      <td>49.529260</td>\n",
       "      <td>116.061818</td>\n",
       "    </tr>\n",
       "    <tr>\n",
       "      <th>std</th>\n",
       "      <td>NaN</td>\n",
       "      <td>NaN</td>\n",
       "      <td>NaN</td>\n",
       "      <td>NaN</td>\n",
       "      <td>NaN</td>\n",
       "      <td>NaN</td>\n",
       "      <td>7.212391</td>\n",
       "      <td>28.877733</td>\n",
       "      <td>38.717936</td>\n",
       "    </tr>\n",
       "    <tr>\n",
       "      <th>min</th>\n",
       "      <td>NaN</td>\n",
       "      <td>NaN</td>\n",
       "      <td>NaN</td>\n",
       "      <td>NaN</td>\n",
       "      <td>NaN</td>\n",
       "      <td>NaN</td>\n",
       "      <td>0.000000</td>\n",
       "      <td>0.000000</td>\n",
       "      <td>0.000000</td>\n",
       "    </tr>\n",
       "    <tr>\n",
       "      <th>25%</th>\n",
       "      <td>NaN</td>\n",
       "      <td>NaN</td>\n",
       "      <td>NaN</td>\n",
       "      <td>NaN</td>\n",
       "      <td>NaN</td>\n",
       "      <td>NaN</td>\n",
       "      <td>6.000000</td>\n",
       "      <td>25.000000</td>\n",
       "      <td>88.000000</td>\n",
       "    </tr>\n",
       "    <tr>\n",
       "      <th>50%</th>\n",
       "      <td>NaN</td>\n",
       "      <td>NaN</td>\n",
       "      <td>NaN</td>\n",
       "      <td>NaN</td>\n",
       "      <td>NaN</td>\n",
       "      <td>NaN</td>\n",
       "      <td>12.000000</td>\n",
       "      <td>50.000000</td>\n",
       "      <td>114.000000</td>\n",
       "    </tr>\n",
       "    <tr>\n",
       "      <th>75%</th>\n",
       "      <td>NaN</td>\n",
       "      <td>NaN</td>\n",
       "      <td>NaN</td>\n",
       "      <td>NaN</td>\n",
       "      <td>NaN</td>\n",
       "      <td>NaN</td>\n",
       "      <td>18.000000</td>\n",
       "      <td>75.000000</td>\n",
       "      <td>141.000000</td>\n",
       "    </tr>\n",
       "    <tr>\n",
       "      <th>max</th>\n",
       "      <td>NaN</td>\n",
       "      <td>NaN</td>\n",
       "      <td>NaN</td>\n",
       "      <td>NaN</td>\n",
       "      <td>NaN</td>\n",
       "      <td>NaN</td>\n",
       "      <td>24.000000</td>\n",
       "      <td>99.000000</td>\n",
       "      <td>301.000000</td>\n",
       "    </tr>\n",
       "  </tbody>\n",
       "</table>\n",
       "</div>"
      ],
      "text/plain": [
       "                   jobId companyId  jobType       degree    major industry  \\\n",
       "count            1000000   1000000  1000000      1000000  1000000  1000000   \n",
       "unique           1000000        63        8            5        9        7   \n",
       "top     JOB1362685061665    COMP39   SENIOR  HIGH_SCHOOL     NONE      WEB   \n",
       "freq                   1     16193   125886       236976   532355   143206   \n",
       "mean                 NaN       NaN      NaN          NaN      NaN      NaN   \n",
       "std                  NaN       NaN      NaN          NaN      NaN      NaN   \n",
       "min                  NaN       NaN      NaN          NaN      NaN      NaN   \n",
       "25%                  NaN       NaN      NaN          NaN      NaN      NaN   \n",
       "50%                  NaN       NaN      NaN          NaN      NaN      NaN   \n",
       "75%                  NaN       NaN      NaN          NaN      NaN      NaN   \n",
       "max                  NaN       NaN      NaN          NaN      NaN      NaN   \n",
       "\n",
       "        yearsExperience  milesFromMetropolis          salary  \n",
       "count    1000000.000000       1000000.000000  1000000.000000  \n",
       "unique              NaN                  NaN             NaN  \n",
       "top                 NaN                  NaN             NaN  \n",
       "freq                NaN                  NaN             NaN  \n",
       "mean          11.992386            49.529260      116.061818  \n",
       "std            7.212391            28.877733       38.717936  \n",
       "min            0.000000             0.000000        0.000000  \n",
       "25%            6.000000            25.000000       88.000000  \n",
       "50%           12.000000            50.000000      114.000000  \n",
       "75%           18.000000            75.000000      141.000000  \n",
       "max           24.000000            99.000000      301.000000  "
      ]
     },
     "execution_count": 70,
     "metadata": {},
     "output_type": "execute_result"
    }
   ],
   "source": [
    "df_train.describe(include = 'all')"
   ]
  },
  {
   "cell_type": "code",
   "execution_count": 73,
   "metadata": {},
   "outputs": [
    {
     "data": {
      "text/plain": [
       "<seaborn.axisgrid.JointGrid at 0x7f92cc1936a0>"
      ]
     },
     "execution_count": 73,
     "metadata": {},
     "output_type": "execute_result"
    },
    {
     "data": {
      "image/png": "[encoded data removed]",
      "text/plain": [
       "<Figure size 432x432 with 3 Axes>"
      ]
     },
     "metadata": {
      "needs_background": "light"
     },
     "output_type": "display_data"
    }
   ],
   "source": [
    "sns.jointplot(x = df_train['yearsExperience'],y = df_train['salary'], kind = 'hex')"
   ]
  },
  {
   "cell_type": "code",
   "execution_count": 75,
   "metadata": {},
   "outputs": [
    {
     "data": {
      "text/plain": [
       "<seaborn.axisgrid.JointGrid at 0x7f92bc1a6fd0>"
      ]
     },
     "execution_count": 75,
     "metadata": {},
     "output_type": "execute_result"
    },
    {
     "data": {
      "image/png": "[encoded data removed]",
      "text/plain": [
       "<Figure size 432x432 with 3 Axes>"
      ]
     },
     "metadata": {
      "needs_background": "light"
     },
     "output_type": "display_data"
    }
   ],
   "source": [
    "sns.jointplot(x = df_train['yearsExperience'],y = df_train['salary'])"
   ]
  },
  {
   "cell_type": "markdown",
   "metadata": {},
   "source": [
    "### ---- 5 Establish a baseline ----"
   ]
  },
  {
   "cell_type": "code",
   "execution_count": 5,
   "metadata": {},
   "outputs": [],
   "source": [
    "#select a reasonable metric (MSE in this case)\n",
    "#create an extremely simple model and measure its efficacy\n",
    "#e.g. use \"average salary\" for each industry as your model and then measure MSE\n",
    "#during 5-fold cross-validation"
   ]
  },
  {
   "cell_type": "code",
   "execution_count": 18,
   "metadata": {},
   "outputs": [],
   "source": [
    "df_dummy = df_train.copy()"
   ]
  },
  {
   "cell_type": "code",
   "execution_count": 21,
   "metadata": {},
   "outputs": [
    {
     "data": {
      "text/plain": [
       "116.061818"
      ]
     },
     "execution_count": 21,
     "metadata": {},
     "output_type": "execute_result"
    }
   ],
   "source": [
    "df_train['salary'].mean()"
   ]
  },
  {
   "cell_type": "code",
   "execution_count": 22,
   "metadata": {},
   "outputs": [],
   "source": [
    "df_dummy['salary'] = 116"
   ]
  },
  {
   "cell_type": "code",
   "execution_count": 23,
   "metadata": {},
   "outputs": [
    {
     "data": {
      "text/plain": [
       "1499.08092"
      ]
     },
     "execution_count": 23,
     "metadata": {},
     "output_type": "execute_result"
    }
   ],
   "source": [
    "mean_squared_error(df_dummy['salary'], df_train['salary'])"
   ]
  },
  {
   "cell_type": "code",
   "execution_count": 6,
   "metadata": {
    "scrolled": true
   },
   "outputs": [
    {
     "data": {
      "text/html": [
       "<div>\n",
       "<style scoped>\n",
       "    .dataframe tbody tr th:only-of-type {\n",
       "        vertical-align: middle;\n",
       "    }\n",
       "\n",
       "    .dataframe tbody tr th {\n",
       "        vertical-align: top;\n",
       "    }\n",
       "\n",
       "    .dataframe thead th {\n",
       "        text-align: right;\n",
       "    }\n",
       "</style>\n",
       "<table border=\"1\" class=\"dataframe\">\n",
       "  <thead>\n",
       "    <tr style=\"text-align: right;\">\n",
       "      <th></th>\n",
       "      <th>yearsExperience</th>\n",
       "      <th>milesFromMetropolis</th>\n",
       "      <th>salary</th>\n",
       "    </tr>\n",
       "    <tr>\n",
       "      <th>industry</th>\n",
       "      <th></th>\n",
       "      <th></th>\n",
       "      <th></th>\n",
       "    </tr>\n",
       "  </thead>\n",
       "  <tbody>\n",
       "    <tr>\n",
       "      <th>AUTO</th>\n",
       "      <td>11.974668</td>\n",
       "      <td>49.553521</td>\n",
       "      <td>109.433690</td>\n",
       "    </tr>\n",
       "    <tr>\n",
       "      <th>EDUCATION</th>\n",
       "      <td>12.000105</td>\n",
       "      <td>49.586442</td>\n",
       "      <td>99.448386</td>\n",
       "    </tr>\n",
       "    <tr>\n",
       "      <th>FINANCE</th>\n",
       "      <td>12.009715</td>\n",
       "      <td>49.532635</td>\n",
       "      <td>130.746743</td>\n",
       "    </tr>\n",
       "    <tr>\n",
       "      <th>HEALTH</th>\n",
       "      <td>11.972856</td>\n",
       "      <td>49.501061</td>\n",
       "      <td>115.735540</td>\n",
       "    </tr>\n",
       "    <tr>\n",
       "      <th>OIL</th>\n",
       "      <td>12.006486</td>\n",
       "      <td>49.490303</td>\n",
       "      <td>130.952946</td>\n",
       "    </tr>\n",
       "    <tr>\n",
       "      <th>SERVICE</th>\n",
       "      <td>11.994665</td>\n",
       "      <td>49.577878</td>\n",
       "      <td>104.446820</td>\n",
       "    </tr>\n",
       "    <tr>\n",
       "      <th>WEB</th>\n",
       "      <td>11.988227</td>\n",
       "      <td>49.463172</td>\n",
       "      <td>121.644512</td>\n",
       "    </tr>\n",
       "  </tbody>\n",
       "</table>\n",
       "</div>"
      ],
      "text/plain": [
       "           yearsExperience  milesFromMetropolis      salary\n",
       "industry                                                   \n",
       "AUTO             11.974668            49.553521  109.433690\n",
       "EDUCATION        12.000105            49.586442   99.448386\n",
       "FINANCE          12.009715            49.532635  130.746743\n",
       "HEALTH           11.972856            49.501061  115.735540\n",
       "OIL              12.006486            49.490303  130.952946\n",
       "SERVICE          11.994665            49.577878  104.446820\n",
       "WEB              11.988227            49.463172  121.644512"
      ]
     },
     "execution_count": 6,
     "metadata": {},
     "output_type": "execute_result"
    }
   ],
   "source": [
    "df_train.groupby('industry').mean()"
   ]
  },
  {
   "cell_type": "code",
   "execution_count": 36,
   "metadata": {},
   "outputs": [
    {
     "data": {
      "text/plain": [
       "count    1000000.000000\n",
       "mean         116.061818\n",
       "std           38.717936\n",
       "min            0.000000\n",
       "25%           88.000000\n",
       "50%          114.000000\n",
       "75%          141.000000\n",
       "max          301.000000\n",
       "Name: salary, dtype: float64"
      ]
     },
     "execution_count": 36,
     "metadata": {},
     "output_type": "execute_result"
    }
   ],
   "source": [
    "df_train.salary.describe()"
   ]
  },
  {
   "cell_type": "markdown",
   "metadata": {},
   "source": [
    "### ---- 6 Hypothesize solution ----"
   ]
  },
  {
   "cell_type": "code",
   "execution_count": null,
   "metadata": {},
   "outputs": [],
   "source": [
    "#brainstorm 3 models that you think may improve results over the baseline model based\n",
    "#on your "
   ]
  },
  {
   "cell_type": "markdown",
   "metadata": {},
   "source": [
    "1. linear regression (salary can be a linear relationship )\n",
    "    1. stepwise\n",
    "    2. lasso\n",
    "    3. ridge\n",
    "2. random forest\n",
    "    1. xgboost\n",
    "3. svm\n",
    "4. one hot encoding for jobtype, major, degree, industry\n"
   ]
  },
  {
   "cell_type": "code",
   "execution_count": null,
   "metadata": {},
   "outputs": [],
   "source": []
  },
  {
   "cell_type": "markdown",
   "metadata": {},
   "source": [
    "Brainstorm 3 models that you think may improve results over the baseline model based on your EDA and explain why they're reasonable solutions here.\n",
    "\n",
    "Also write down any new features that you think you should try adding to the model based on your EDA, e.g. interaction variables, summary statistics for each group, etc"
   ]
  },
  {
   "cell_type": "markdown",
   "metadata": {},
   "source": [
    "## Part 3 - DEVELOP"
   ]
  },
  {
   "cell_type": "markdown",
   "metadata": {},
   "source": [
    "You will cycle through creating features, tuning models, and training/validing models (steps 7-9) until you've reached your efficacy goal\n",
    "\n",
    "#### Your metric will be MSE and your goal is:\n",
    " - <360 for entry-level data science roles\n",
    " - <320 for senior data science roles"
   ]
  },
  {
   "cell_type": "markdown",
   "metadata": {},
   "source": [
    "### ---- 7 Engineer features  ----"
   ]
  },
  {
   "cell_type": "code",
   "execution_count": null,
   "metadata": {},
   "outputs": [],
   "source": [
    "#make sure that data is ready for modeling\n",
    "#create any new features needed to potentially enhance model"
   ]
  },
  {
   "cell_type": "code",
   "execution_count": 32,
   "metadata": {},
   "outputs": [
    {
     "data": {
      "text/html": [
       "<div>\n",
       "<style scoped>\n",
       "    .dataframe tbody tr th:only-of-type {\n",
       "        vertical-align: middle;\n",
       "    }\n",
       "\n",
       "    .dataframe tbody tr th {\n",
       "        vertical-align: top;\n",
       "    }\n",
       "\n",
       "    .dataframe thead th {\n",
       "        text-align: right;\n",
       "    }\n",
       "</style>\n",
       "<table border=\"1\" class=\"dataframe\">\n",
       "  <thead>\n",
       "    <tr style=\"text-align: right;\">\n",
       "      <th></th>\n",
       "      <th>yearsExperience</th>\n",
       "      <th>milesFromMetropolis</th>\n",
       "      <th>salary</th>\n",
       "    </tr>\n",
       "    <tr>\n",
       "      <th>degree</th>\n",
       "      <th></th>\n",
       "      <th></th>\n",
       "      <th></th>\n",
       "    </tr>\n",
       "  </thead>\n",
       "  <tbody>\n",
       "    <tr>\n",
       "      <th>BACHELORS</th>\n",
       "      <td>11.986045</td>\n",
       "      <td>49.589646</td>\n",
       "      <td>125.454663</td>\n",
       "    </tr>\n",
       "    <tr>\n",
       "      <th>DOCTORAL</th>\n",
       "      <td>12.003307</td>\n",
       "      <td>49.608529</td>\n",
       "      <td>135.489433</td>\n",
       "    </tr>\n",
       "    <tr>\n",
       "      <th>HIGH_SCHOOL</th>\n",
       "      <td>11.995493</td>\n",
       "      <td>49.459355</td>\n",
       "      <td>101.920654</td>\n",
       "    </tr>\n",
       "    <tr>\n",
       "      <th>MASTERS</th>\n",
       "      <td>11.984935</td>\n",
       "      <td>49.553947</td>\n",
       "      <td>130.504903</td>\n",
       "    </tr>\n",
       "    <tr>\n",
       "      <th>NONE</th>\n",
       "      <td>11.991404</td>\n",
       "      <td>49.477497</td>\n",
       "      <td>98.176467</td>\n",
       "    </tr>\n",
       "  </tbody>\n",
       "</table>\n",
       "</div>"
      ],
      "text/plain": [
       "             yearsExperience  milesFromMetropolis      salary\n",
       "degree                                                       \n",
       "BACHELORS          11.986045            49.589646  125.454663\n",
       "DOCTORAL           12.003307            49.608529  135.489433\n",
       "HIGH_SCHOOL        11.995493            49.459355  101.920654\n",
       "MASTERS            11.984935            49.553947  130.504903\n",
       "NONE               11.991404            49.477497   98.176467"
      ]
     },
     "execution_count": 32,
     "metadata": {},
     "output_type": "execute_result"
    }
   ],
   "source": [
    "df_train.groupby('degree').mean()"
   ]
  },
  {
   "cell_type": "code",
   "execution_count": 31,
   "metadata": {},
   "outputs": [
    {
     "data": {
      "text/html": [
       "<div>\n",
       "<style scoped>\n",
       "    .dataframe tbody tr th:only-of-type {\n",
       "        vertical-align: middle;\n",
       "    }\n",
       "\n",
       "    .dataframe tbody tr th {\n",
       "        vertical-align: top;\n",
       "    }\n",
       "\n",
       "    .dataframe thead th {\n",
       "        text-align: right;\n",
       "    }\n",
       "</style>\n",
       "<table border=\"1\" class=\"dataframe\">\n",
       "  <thead>\n",
       "    <tr style=\"text-align: right;\">\n",
       "      <th></th>\n",
       "      <th>yearsExperience</th>\n",
       "      <th>milesFromMetropolis</th>\n",
       "      <th>salary</th>\n",
       "    </tr>\n",
       "    <tr>\n",
       "      <th>jobType</th>\n",
       "      <th></th>\n",
       "      <th></th>\n",
       "      <th></th>\n",
       "    </tr>\n",
       "  </thead>\n",
       "  <tbody>\n",
       "    <tr>\n",
       "      <th>CEO</th>\n",
       "      <td>11.998269</td>\n",
       "      <td>49.478458</td>\n",
       "      <td>145.311425</td>\n",
       "    </tr>\n",
       "    <tr>\n",
       "      <th>CFO</th>\n",
       "      <td>11.990440</td>\n",
       "      <td>49.572715</td>\n",
       "      <td>135.458547</td>\n",
       "    </tr>\n",
       "    <tr>\n",
       "      <th>CTO</th>\n",
       "      <td>12.010812</td>\n",
       "      <td>49.580930</td>\n",
       "      <td>135.479983</td>\n",
       "    </tr>\n",
       "    <tr>\n",
       "      <th>JANITOR</th>\n",
       "      <td>11.969657</td>\n",
       "      <td>49.443815</td>\n",
       "      <td>70.813045</td>\n",
       "    </tr>\n",
       "    <tr>\n",
       "      <th>JUNIOR</th>\n",
       "      <td>11.992287</td>\n",
       "      <td>49.659968</td>\n",
       "      <td>95.331557</td>\n",
       "    </tr>\n",
       "    <tr>\n",
       "      <th>MANAGER</th>\n",
       "      <td>11.987332</td>\n",
       "      <td>49.498006</td>\n",
       "      <td>115.367596</td>\n",
       "    </tr>\n",
       "    <tr>\n",
       "      <th>SENIOR</th>\n",
       "      <td>11.996624</td>\n",
       "      <td>49.572558</td>\n",
       "      <td>105.487775</td>\n",
       "    </tr>\n",
       "    <tr>\n",
       "      <th>VICE_PRESIDENT</th>\n",
       "      <td>11.993628</td>\n",
       "      <td>49.428059</td>\n",
       "      <td>125.367629</td>\n",
       "    </tr>\n",
       "  </tbody>\n",
       "</table>\n",
       "</div>"
      ],
      "text/plain": [
       "                yearsExperience  milesFromMetropolis      salary\n",
       "jobType                                                         \n",
       "CEO                   11.998269            49.478458  145.311425\n",
       "CFO                   11.990440            49.572715  135.458547\n",
       "CTO                   12.010812            49.580930  135.479983\n",
       "JANITOR               11.969657            49.443815   70.813045\n",
       "JUNIOR                11.992287            49.659968   95.331557\n",
       "MANAGER               11.987332            49.498006  115.367596\n",
       "SENIOR                11.996624            49.572558  105.487775\n",
       "VICE_PRESIDENT        11.993628            49.428059  125.367629"
      ]
     },
     "execution_count": 31,
     "metadata": {},
     "output_type": "execute_result"
    }
   ],
   "source": [
    "df_train.groupby('jobType').mean()"
   ]
  },
  {
   "cell_type": "code",
   "execution_count": 46,
   "metadata": {},
   "outputs": [],
   "source": [
    "\n",
    "\n",
    "#categorical_columns = ['jobType','degree', 'major', 'industry']\n",
    "categorical_columns = ['jobType',\n",
    "                       #'degree',\n",
    "                       'major',\n",
    "                       'industry']\n",
    "\n",
    "numerical_columns = ['yearsExperience', 'milesFromMetropolis']\n",
    "jobType =  ['jobType']\n",
    "degree = ['degree']\n",
    "major = ['major']\n",
    "industry = ['industry']\n",
    "\n",
    "\n",
    "categorical_pipe =  make_pipeline(\n",
    "    OneHotEncoder()\n",
    ")\n",
    "\n",
    "jobType_pipe = make_pipeline(\n",
    "    OrdinalEncoder(categories =[['JANITOR', 'JUNIOR','SENIOR','MANAGER','VICE_PRESIDENT','CFO','CTO','CEO']])\n",
    ")\n",
    "\n",
    "\n",
    "degree_pipe = make_pipeline(\n",
    "    OrdinalEncoder(categories =[['NONE', 'HIGH_SCHOOL','BACHELORS','MASTERS','DOCTORAL']])\n",
    "\n",
    ") \n",
    "\n",
    "\n",
    "\n",
    "numerical_pipe = make_pipeline(\n",
    "    StandardScaler()\n",
    ")\n",
    "\n",
    "preprocessing = ColumnTransformer(\n",
    "    [('cat', categorical_pipe, categorical_columns),\n",
    "     ('deg', degree_pipe, degree),\n",
    "         # ('job', jobType_pipe, jobType),\n",
    "\n",
    "     ('num', numerical_pipe, numerical_columns)]\n",
    ")\n"
   ]
  },
  {
   "cell_type": "code",
   "execution_count": 38,
   "metadata": {
    "scrolled": true
   },
   "outputs": [
    {
     "data": {
      "text/html": [
       "<div>\n",
       "<style scoped>\n",
       "    .dataframe tbody tr th:only-of-type {\n",
       "        vertical-align: middle;\n",
       "    }\n",
       "\n",
       "    .dataframe tbody tr th {\n",
       "        vertical-align: top;\n",
       "    }\n",
       "\n",
       "    .dataframe thead th {\n",
       "        text-align: right;\n",
       "    }\n",
       "</style>\n",
       "<table border=\"1\" class=\"dataframe\">\n",
       "  <thead>\n",
       "    <tr style=\"text-align: right;\">\n",
       "      <th></th>\n",
       "      <th>jobType</th>\n",
       "      <th>major</th>\n",
       "      <th>industry</th>\n",
       "    </tr>\n",
       "  </thead>\n",
       "  <tbody>\n",
       "    <tr>\n",
       "      <th>0</th>\n",
       "      <td>CFO</td>\n",
       "      <td>MATH</td>\n",
       "      <td>HEALTH</td>\n",
       "    </tr>\n",
       "    <tr>\n",
       "      <th>1</th>\n",
       "      <td>CEO</td>\n",
       "      <td>NONE</td>\n",
       "      <td>WEB</td>\n",
       "    </tr>\n",
       "    <tr>\n",
       "      <th>2</th>\n",
       "      <td>VICE_PRESIDENT</td>\n",
       "      <td>PHYSICS</td>\n",
       "      <td>HEALTH</td>\n",
       "    </tr>\n",
       "    <tr>\n",
       "      <th>3</th>\n",
       "      <td>MANAGER</td>\n",
       "      <td>CHEMISTRY</td>\n",
       "      <td>AUTO</td>\n",
       "    </tr>\n",
       "    <tr>\n",
       "      <th>4</th>\n",
       "      <td>VICE_PRESIDENT</td>\n",
       "      <td>PHYSICS</td>\n",
       "      <td>FINANCE</td>\n",
       "    </tr>\n",
       "    <tr>\n",
       "      <th>...</th>\n",
       "      <td>...</td>\n",
       "      <td>...</td>\n",
       "      <td>...</td>\n",
       "    </tr>\n",
       "    <tr>\n",
       "      <th>999995</th>\n",
       "      <td>VICE_PRESIDENT</td>\n",
       "      <td>CHEMISTRY</td>\n",
       "      <td>HEALTH</td>\n",
       "    </tr>\n",
       "    <tr>\n",
       "      <th>999996</th>\n",
       "      <td>CTO</td>\n",
       "      <td>NONE</td>\n",
       "      <td>FINANCE</td>\n",
       "    </tr>\n",
       "    <tr>\n",
       "      <th>999997</th>\n",
       "      <td>JUNIOR</td>\n",
       "      <td>NONE</td>\n",
       "      <td>EDUCATION</td>\n",
       "    </tr>\n",
       "    <tr>\n",
       "      <th>999998</th>\n",
       "      <td>CFO</td>\n",
       "      <td>NONE</td>\n",
       "      <td>HEALTH</td>\n",
       "    </tr>\n",
       "    <tr>\n",
       "      <th>999999</th>\n",
       "      <td>JUNIOR</td>\n",
       "      <td>NONE</td>\n",
       "      <td>EDUCATION</td>\n",
       "    </tr>\n",
       "  </tbody>\n",
       "</table>\n",
       "<p>999995 rows × 3 columns</p>\n",
       "</div>"
      ],
      "text/plain": [
       "               jobType      major   industry\n",
       "0                  CFO       MATH     HEALTH\n",
       "1                  CEO       NONE        WEB\n",
       "2       VICE_PRESIDENT    PHYSICS     HEALTH\n",
       "3              MANAGER  CHEMISTRY       AUTO\n",
       "4       VICE_PRESIDENT    PHYSICS    FINANCE\n",
       "...                ...        ...        ...\n",
       "999995  VICE_PRESIDENT  CHEMISTRY     HEALTH\n",
       "999996             CTO       NONE    FINANCE\n",
       "999997          JUNIOR       NONE  EDUCATION\n",
       "999998             CFO       NONE     HEALTH\n",
       "999999          JUNIOR       NONE  EDUCATION\n",
       "\n",
       "[999995 rows x 3 columns]"
      ]
     },
     "execution_count": 38,
     "metadata": {},
     "output_type": "execute_result"
    }
   ],
   "source": [
    "df_train_features[categorical_columns]"
   ]
  },
  {
   "cell_type": "markdown",
   "metadata": {},
   "source": [
    "## Random Forest"
   ]
  },
  {
   "cell_type": "code",
   "execution_count": null,
   "metadata": {},
   "outputs": [],
   "source": [
    "\n",
    "rf = Pipeline([\n",
    "    ('preprocess', preprocessing),\n",
    "    ('rfregressor', RandomForestRegressor(max_depth = 5, n_jobs = -1))\n",
    "])\n"
   ]
  },
  {
   "cell_type": "code",
   "execution_count": 39,
   "metadata": {},
   "outputs": [
    {
     "name": "stderr",
     "output_type": "stream",
     "text": [
      "/home/ben/anaconda3/lib/python3.7/site-packages/sklearn/pipeline.py:352: DataConversionWarning: A column-vector y was passed when a 1d array was expected. Please change the shape of y to (n_samples,), for example using ravel().\n",
      "  self._final_estimator.fit(Xt, y, **fit_params)\n"
     ]
    },
    {
     "data": {
      "text/plain": [
       "Pipeline(memory=None,\n",
       "         steps=[('preprocess',\n",
       "                 ColumnTransformer(n_jobs=None, remainder='drop',\n",
       "                                   sparse_threshold=0.3,\n",
       "                                   transformer_weights=None,\n",
       "                                   transformers=[('cat',\n",
       "                                                  Pipeline(memory=None,\n",
       "                                                           steps=[('onehotencoder',\n",
       "                                                                   OneHotEncoder(categories='auto',\n",
       "                                                                                 drop=None,\n",
       "                                                                                 dtype=<class 'numpy.float64'>,\n",
       "                                                                                 handle_unknown='error',\n",
       "                                                                                 sparse=True))],\n",
       "                                                           verbose=False),\n",
       "                                                  ['jobType', 'major',\n",
       "                                                   'indus...\n",
       "                 RandomForestRegressor(bootstrap=True, ccp_alpha=0.0,\n",
       "                                       criterion='mse', max_depth=5,\n",
       "                                       max_features='auto', max_leaf_nodes=None,\n",
       "                                       max_samples=None,\n",
       "                                       min_impurity_decrease=0.0,\n",
       "                                       min_impurity_split=None,\n",
       "                                       min_samples_leaf=1, min_samples_split=2,\n",
       "                                       min_weight_fraction_leaf=0.0,\n",
       "                                       n_estimators=100, n_jobs=-1,\n",
       "                                       oob_score=False, random_state=None,\n",
       "                                       verbose=0, warm_start=False))],\n",
       "         verbose=False)"
      ]
     },
     "execution_count": 39,
     "metadata": {},
     "output_type": "execute_result"
    }
   ],
   "source": [
    "rf.fit(df_train_features.iloc[:,2:],df_train_salaries.iloc[:,1:])"
   ]
  },
  {
   "cell_type": "code",
   "execution_count": 40,
   "metadata": {},
   "outputs": [
    {
     "data": {
      "text/plain": [
       "0.5339546808188526"
      ]
     },
     "execution_count": 40,
     "metadata": {},
     "output_type": "execute_result"
    }
   ],
   "source": [
    "rf.score(df_train_features.iloc[:,2:],df_train_salaries.iloc[:,1:])"
   ]
  },
  {
   "cell_type": "code",
   "execution_count": 20,
   "metadata": {},
   "outputs": [
    {
     "data": {
      "text/plain": [
       "468.35350224444215"
      ]
     },
     "execution_count": 20,
     "metadata": {},
     "output_type": "execute_result"
    }
   ],
   "source": [
    "mean_squared_error(rf.predict(df_train_features.iloc[:,2:]),df_train_salaries.iloc[:,1:])"
   ]
  },
  {
   "cell_type": "markdown",
   "metadata": {},
   "source": [
    "## Linear Regression"
   ]
  },
  {
   "cell_type": "code",
   "execution_count": 44,
   "metadata": {},
   "outputs": [
    {
     "data": {
      "text/plain": [
       "Pipeline(memory=None,\n",
       "         steps=[('preprocess',\n",
       "                 ColumnTransformer(n_jobs=None, remainder='drop',\n",
       "                                   sparse_threshold=0.3,\n",
       "                                   transformer_weights=None,\n",
       "                                   transformers=[('cat',\n",
       "                                                  Pipeline(memory=None,\n",
       "                                                           steps=[('onehotencoder',\n",
       "                                                                   OneHotEncoder(categories='auto',\n",
       "                                                                                 drop=None,\n",
       "                                                                                 dtype=<class 'numpy.float64'>,\n",
       "                                                                                 handle_unknown='error',\n",
       "                                                                                 sparse=True))],\n",
       "                                                           verbose=False),\n",
       "                                                  ['major', 'industry']),\n",
       "                                                 ('d...\n",
       "                                                                                  dtype=<class 'numpy.float64'>))],\n",
       "                                                           verbose=False),\n",
       "                                                  ['jobType']),\n",
       "                                                 ('num',\n",
       "                                                  Pipeline(memory=None,\n",
       "                                                           steps=[('standardscaler',\n",
       "                                                                   StandardScaler(copy=True,\n",
       "                                                                                  with_mean=True,\n",
       "                                                                                  with_std=True))],\n",
       "                                                           verbose=False),\n",
       "                                                  ['yearsExperience',\n",
       "                                                   'milesFromMetropolis'])],\n",
       "                                   verbose=False)),\n",
       "                ('lregressor',\n",
       "                 LinearRegression(copy_X=True, fit_intercept=True, n_jobs=None,\n",
       "                                  normalize=False))],\n",
       "         verbose=False)"
      ]
     },
     "execution_count": 44,
     "metadata": {},
     "output_type": "execute_result"
    }
   ],
   "source": [
    "\n",
    "lr = Pipeline(steps = [\n",
    "     ('preprocess', preprocessing),\n",
    "    ('lregressor', LinearRegression())])\n",
    "lr.fit(df_train_features.iloc[:,2:],df_train_salaries.iloc[:,1:])"
   ]
  },
  {
   "cell_type": "code",
   "execution_count": 45,
   "metadata": {},
   "outputs": [
    {
     "data": {
      "text/plain": [
       "394.3695108594638"
      ]
     },
     "execution_count": 45,
     "metadata": {},
     "output_type": "execute_result"
    }
   ],
   "source": [
    "mean_squared_error(lr.predict(df_train_features.iloc[:,2:]),df_train_salaries.iloc[:,1:])"
   ]
  },
  {
   "cell_type": "code",
   "execution_count": 56,
   "metadata": {},
   "outputs": [
    {
     "data": {
      "text/plain": [
       "array([[ 28.63226445,  18.82930398,  18.84416284, -33.7260946 ,\n",
       "        -21.16306723,  -1.23482586, -11.15348975,   8.6865952 ,\n",
       "          1.561682  ,  11.59192871,  -4.1566996 ,   6.55913854,\n",
       "         -7.84120062,  -1.62237329,   6.07649785,  -0.5420161 ,\n",
       "          2.41837753,   8.98163678,  -5.24284343,   3.5199554 ,\n",
       "         -6.57823374,   0.70384803,  -5.44642825, -15.4365194 ,\n",
       "         15.69637805,   0.80083304,  15.86331951, -10.42679192,\n",
       "          6.664058  ,  14.49763243, -11.53691507]])"
      ]
     },
     "execution_count": 56,
     "metadata": {},
     "output_type": "execute_result"
    }
   ],
   "source": [
    "lr.named_steps['lregressor'].coef_\n"
   ]
  },
  {
   "cell_type": "markdown",
   "metadata": {},
   "source": [
    "## Lasso"
   ]
  },
  {
   "cell_type": "code",
   "execution_count": 54,
   "metadata": {},
   "outputs": [
    {
     "data": {
      "text/plain": [
       "Pipeline(memory=None,\n",
       "         steps=[('preprocess',\n",
       "                 ColumnTransformer(n_jobs=None, remainder='drop',\n",
       "                                   sparse_threshold=0.3,\n",
       "                                   transformer_weights=None,\n",
       "                                   transformers=[('cat',\n",
       "                                                  Pipeline(memory=None,\n",
       "                                                           steps=[('onehotencoder',\n",
       "                                                                   OneHotEncoder(categories='auto',\n",
       "                                                                                 drop=None,\n",
       "                                                                                 dtype=<class 'numpy.float64'>,\n",
       "                                                                                 handle_unknown='error',\n",
       "                                                                                 sparse=True))],\n",
       "                                                           verbose=False),\n",
       "                                                  ['jobType', 'major',\n",
       "                                                   'indus...\n",
       "                                                           steps=[('standardscaler',\n",
       "                                                                   StandardScaler(copy=True,\n",
       "                                                                                  with_mean=True,\n",
       "                                                                                  with_std=True))],\n",
       "                                                           verbose=False),\n",
       "                                                  ['yearsExperience',\n",
       "                                                   'milesFromMetropolis'])],\n",
       "                                   verbose=False)),\n",
       "                ('lassoreg',\n",
       "                 Lasso(alpha=1.0, copy_X=True, fit_intercept=True,\n",
       "                       max_iter=1000, normalize=False, positive=False,\n",
       "                       precompute=False, random_state=None, selection='cyclic',\n",
       "                       tol=0.0001, warm_start=False))],\n",
       "         verbose=False)"
      ]
     },
     "execution_count": 54,
     "metadata": {},
     "output_type": "execute_result"
    }
   ],
   "source": [
    "lasso = Pipeline([\n",
    "    ('preprocess', preprocessing),\n",
    "    ('lassoreg', Lasso())\n",
    "])\n",
    "lasso.fit(df_train_features.iloc[:,2:],df_train_salaries.iloc[:,1:])"
   ]
  },
  {
   "cell_type": "code",
   "execution_count": 55,
   "metadata": {},
   "outputs": [
    {
     "data": {
      "text/plain": [
       "491.269447223051"
      ]
     },
     "execution_count": 55,
     "metadata": {},
     "output_type": "execute_result"
    }
   ],
   "source": [
    "mean_squared_error(lasso.predict(df_train_features.iloc[:,2:]),df_train_salaries.iloc[:,1:])"
   ]
  },
  {
   "cell_type": "markdown",
   "metadata": {},
   "source": [
    "## Ridge"
   ]
  },
  {
   "cell_type": "code",
   "execution_count": 56,
   "metadata": {},
   "outputs": [
    {
     "data": {
      "text/plain": [
       "Pipeline(memory=None,\n",
       "         steps=[('preprocess',\n",
       "                 ColumnTransformer(n_jobs=None, remainder='drop',\n",
       "                                   sparse_threshold=0.3,\n",
       "                                   transformer_weights=None,\n",
       "                                   transformers=[('cat',\n",
       "                                                  Pipeline(memory=None,\n",
       "                                                           steps=[('onehotencoder',\n",
       "                                                                   OneHotEncoder(categories='auto',\n",
       "                                                                                 drop=None,\n",
       "                                                                                 dtype=<class 'numpy.float64'>,\n",
       "                                                                                 handle_unknown='error',\n",
       "                                                                                 sparse=True))],\n",
       "                                                           verbose=False),\n",
       "                                                  ['jobType', 'major',\n",
       "                                                   'indus...\n",
       "                                                           verbose=False),\n",
       "                                                  ['degree']),\n",
       "                                                 ('num',\n",
       "                                                  Pipeline(memory=None,\n",
       "                                                           steps=[('standardscaler',\n",
       "                                                                   StandardScaler(copy=True,\n",
       "                                                                                  with_mean=True,\n",
       "                                                                                  with_std=True))],\n",
       "                                                           verbose=False),\n",
       "                                                  ['yearsExperience',\n",
       "                                                   'milesFromMetropolis'])],\n",
       "                                   verbose=False)),\n",
       "                ('ridgereg',\n",
       "                 Ridge(alpha=1.0, copy_X=True, fit_intercept=True,\n",
       "                       max_iter=None, normalize=False, random_state=None,\n",
       "                       solver='auto', tol=0.001))],\n",
       "         verbose=False)"
      ]
     },
     "execution_count": 56,
     "metadata": {},
     "output_type": "execute_result"
    }
   ],
   "source": [
    "ridge = Pipeline([\n",
    "    ('preprocess', preprocessing),\n",
    "    ('ridgereg', Ridge())\n",
    "])\n",
    "ridge.fit(df_train_features.iloc[:,2:],df_train_salaries.iloc[:,1:])"
   ]
  },
  {
   "cell_type": "code",
   "execution_count": 57,
   "metadata": {},
   "outputs": [
    {
     "data": {
      "text/plain": [
       "384.56041812207377"
      ]
     },
     "execution_count": 57,
     "metadata": {},
     "output_type": "execute_result"
    }
   ],
   "source": [
    "mean_squared_error(ridge.predict(df_train_features.iloc[:,2:]),df_train_salaries.iloc[:,1:])"
   ]
  },
  {
   "cell_type": "markdown",
   "metadata": {},
   "source": [
    "### ---- 8 Create models ----"
   ]
  },
  {
   "cell_type": "markdown",
   "metadata": {},
   "source": [
    "## TPOT"
   ]
  },
  {
   "cell_type": "code",
   "execution_count": 11,
   "metadata": {},
   "outputs": [
    {
     "data": {
      "text/plain": [
       "ColumnTransformer(n_jobs=None, remainder='drop', sparse_threshold=0.3,\n",
       "                  transformer_weights=None,\n",
       "                  transformers=[('cat',\n",
       "                                 Pipeline(memory=None,\n",
       "                                          steps=[('onehotencoder',\n",
       "                                                  OneHotEncoder(categories='auto',\n",
       "                                                                drop=None,\n",
       "                                                                dtype=<class 'numpy.float64'>,\n",
       "                                                                handle_unknown='error',\n",
       "                                                                sparse=True))],\n",
       "                                          verbose=False),\n",
       "                                 ['jobType', 'degree', 'major', 'industry']),\n",
       "                                ('num',\n",
       "                                 Pipeline(memory=None,\n",
       "                                          steps=[('standardscaler',\n",
       "                                                  StandardScaler(copy=True,\n",
       "                                                                 with_mean=True,\n",
       "                                                                 with_std=True))],\n",
       "                                          verbose=False),\n",
       "                                 ['yearsExperience', 'milesFromMetropolis'])],\n",
       "                  verbose=False)"
      ]
     },
     "execution_count": 11,
     "metadata": {},
     "output_type": "execute_result"
    }
   ],
   "source": [
    "preprocessing.fit(df_train_features)"
   ]
  },
  {
   "cell_type": "code",
   "execution_count": 83,
   "metadata": {},
   "outputs": [
    {
     "name": "stderr",
     "output_type": "stream",
     "text": [
      "/home/ben/anaconda3/lib/python3.7/site-packages/sklearn/compose/_column_transformer.py:430: FutureWarning: Given feature/column names or counts do not match the ones for the data given during fit. This will fail from v0.24.\n",
      "  FutureWarning)\n"
     ]
    }
   ],
   "source": [
    "new_data = preprocessing.transform(df_train_features)"
   ]
  },
  {
   "cell_type": "code",
   "execution_count": 18,
   "metadata": {},
   "outputs": [
    {
     "data": {
      "text/plain": [
       "0         130\n",
       "1         101\n",
       "2         137\n",
       "3         142\n",
       "4         163\n",
       "         ... \n",
       "999995     88\n",
       "999996    160\n",
       "999997     64\n",
       "999998    149\n",
       "999999     88\n",
       "Name: salary, Length: 999995, dtype: int64"
      ]
     },
     "execution_count": 18,
     "metadata": {},
     "output_type": "execute_result"
    }
   ],
   "source": [
    "df_train_salaries.iloc[:,1]"
   ]
  },
  {
   "cell_type": "code",
   "execution_count": null,
   "metadata": {},
   "outputs": [],
   "source": [
    "#tpot"
   ]
  },
  {
   "cell_type": "code",
   "execution_count": 21,
   "metadata": {},
   "outputs": [
    {
     "data": {
      "text/html": [
       "<div>\n",
       "<style scoped>\n",
       "    .dataframe tbody tr th:only-of-type {\n",
       "        vertical-align: middle;\n",
       "    }\n",
       "\n",
       "    .dataframe tbody tr th {\n",
       "        vertical-align: top;\n",
       "    }\n",
       "\n",
       "    .dataframe thead th {\n",
       "        text-align: right;\n",
       "    }\n",
       "</style>\n",
       "<table border=\"1\" class=\"dataframe\">\n",
       "  <thead>\n",
       "    <tr style=\"text-align: right;\">\n",
       "      <th></th>\n",
       "      <th>jobType</th>\n",
       "      <th>degree</th>\n",
       "      <th>major</th>\n",
       "      <th>industry</th>\n",
       "      <th>yearsExperience</th>\n",
       "      <th>milesFromMetropolis</th>\n",
       "    </tr>\n",
       "  </thead>\n",
       "  <tbody>\n",
       "    <tr>\n",
       "      <th>0</th>\n",
       "      <td>CFO</td>\n",
       "      <td>MASTERS</td>\n",
       "      <td>MATH</td>\n",
       "      <td>HEALTH</td>\n",
       "      <td>10</td>\n",
       "      <td>83</td>\n",
       "    </tr>\n",
       "    <tr>\n",
       "      <th>1</th>\n",
       "      <td>CEO</td>\n",
       "      <td>HIGH_SCHOOL</td>\n",
       "      <td>NONE</td>\n",
       "      <td>WEB</td>\n",
       "      <td>3</td>\n",
       "      <td>73</td>\n",
       "    </tr>\n",
       "    <tr>\n",
       "      <th>2</th>\n",
       "      <td>VICE_PRESIDENT</td>\n",
       "      <td>DOCTORAL</td>\n",
       "      <td>PHYSICS</td>\n",
       "      <td>HEALTH</td>\n",
       "      <td>10</td>\n",
       "      <td>38</td>\n",
       "    </tr>\n",
       "    <tr>\n",
       "      <th>3</th>\n",
       "      <td>MANAGER</td>\n",
       "      <td>DOCTORAL</td>\n",
       "      <td>CHEMISTRY</td>\n",
       "      <td>AUTO</td>\n",
       "      <td>8</td>\n",
       "      <td>17</td>\n",
       "    </tr>\n",
       "    <tr>\n",
       "      <th>4</th>\n",
       "      <td>VICE_PRESIDENT</td>\n",
       "      <td>BACHELORS</td>\n",
       "      <td>PHYSICS</td>\n",
       "      <td>FINANCE</td>\n",
       "      <td>8</td>\n",
       "      <td>16</td>\n",
       "    </tr>\n",
       "    <tr>\n",
       "      <th>...</th>\n",
       "      <td>...</td>\n",
       "      <td>...</td>\n",
       "      <td>...</td>\n",
       "      <td>...</td>\n",
       "      <td>...</td>\n",
       "      <td>...</td>\n",
       "    </tr>\n",
       "    <tr>\n",
       "      <th>999995</th>\n",
       "      <td>VICE_PRESIDENT</td>\n",
       "      <td>BACHELORS</td>\n",
       "      <td>CHEMISTRY</td>\n",
       "      <td>HEALTH</td>\n",
       "      <td>19</td>\n",
       "      <td>94</td>\n",
       "    </tr>\n",
       "    <tr>\n",
       "      <th>999996</th>\n",
       "      <td>CTO</td>\n",
       "      <td>HIGH_SCHOOL</td>\n",
       "      <td>NONE</td>\n",
       "      <td>FINANCE</td>\n",
       "      <td>12</td>\n",
       "      <td>35</td>\n",
       "    </tr>\n",
       "    <tr>\n",
       "      <th>999997</th>\n",
       "      <td>JUNIOR</td>\n",
       "      <td>HIGH_SCHOOL</td>\n",
       "      <td>NONE</td>\n",
       "      <td>EDUCATION</td>\n",
       "      <td>16</td>\n",
       "      <td>81</td>\n",
       "    </tr>\n",
       "    <tr>\n",
       "      <th>999998</th>\n",
       "      <td>CFO</td>\n",
       "      <td>MASTERS</td>\n",
       "      <td>NONE</td>\n",
       "      <td>HEALTH</td>\n",
       "      <td>6</td>\n",
       "      <td>5</td>\n",
       "    </tr>\n",
       "    <tr>\n",
       "      <th>999999</th>\n",
       "      <td>JUNIOR</td>\n",
       "      <td>BACHELORS</td>\n",
       "      <td>NONE</td>\n",
       "      <td>EDUCATION</td>\n",
       "      <td>20</td>\n",
       "      <td>11</td>\n",
       "    </tr>\n",
       "  </tbody>\n",
       "</table>\n",
       "<p>999995 rows × 6 columns</p>\n",
       "</div>"
      ],
      "text/plain": [
       "               jobType       degree      major   industry  yearsExperience  \\\n",
       "0                  CFO      MASTERS       MATH     HEALTH               10   \n",
       "1                  CEO  HIGH_SCHOOL       NONE        WEB                3   \n",
       "2       VICE_PRESIDENT     DOCTORAL    PHYSICS     HEALTH               10   \n",
       "3              MANAGER     DOCTORAL  CHEMISTRY       AUTO                8   \n",
       "4       VICE_PRESIDENT    BACHELORS    PHYSICS    FINANCE                8   \n",
       "...                ...          ...        ...        ...              ...   \n",
       "999995  VICE_PRESIDENT    BACHELORS  CHEMISTRY     HEALTH               19   \n",
       "999996             CTO  HIGH_SCHOOL       NONE    FINANCE               12   \n",
       "999997          JUNIOR  HIGH_SCHOOL       NONE  EDUCATION               16   \n",
       "999998             CFO      MASTERS       NONE     HEALTH                6   \n",
       "999999          JUNIOR    BACHELORS       NONE  EDUCATION               20   \n",
       "\n",
       "        milesFromMetropolis  \n",
       "0                        83  \n",
       "1                        73  \n",
       "2                        38  \n",
       "3                        17  \n",
       "4                        16  \n",
       "...                     ...  \n",
       "999995                   94  \n",
       "999996                   35  \n",
       "999997                   81  \n",
       "999998                    5  \n",
       "999999                   11  \n",
       "\n",
       "[999995 rows x 6 columns]"
      ]
     },
     "execution_count": 21,
     "metadata": {},
     "output_type": "execute_result"
    }
   ],
   "source": [
    "df_train_features.iloc[:,2:]"
   ]
  },
  {
   "cell_type": "code",
   "execution_count": 30,
   "metadata": {},
   "outputs": [
    {
     "data": {
      "text/plain": [
       "array([['CFO', 'MASTERS', 'MATH', 'HEALTH', 10, 83],\n",
       "       ['CEO', 'HIGH_SCHOOL', 'NONE', 'WEB', 3, 73],\n",
       "       ['VICE_PRESIDENT', 'DOCTORAL', 'PHYSICS', 'HEALTH', 10, 38],\n",
       "       ...,\n",
       "       ['JUNIOR', 'HIGH_SCHOOL', 'NONE', 'EDUCATION', 16, 81],\n",
       "       ['CFO', 'MASTERS', 'NONE', 'HEALTH', 6, 5],\n",
       "       ['JUNIOR', 'BACHELORS', 'NONE', 'EDUCATION', 20, 11]], dtype=object)"
      ]
     },
     "execution_count": 30,
     "metadata": {},
     "output_type": "execute_result"
    }
   ],
   "source": [
    "np.asarray(df_train_features.iloc[:,2:])"
   ]
  },
  {
   "cell_type": "code",
   "execution_count": 27,
   "metadata": {},
   "outputs": [
    {
     "data": {
      "text/plain": [
       "array([130, 101, 137, ...,  64, 149,  88])"
      ]
     },
     "execution_count": 27,
     "metadata": {},
     "output_type": "execute_result"
    }
   ],
   "source": [
    "np.asarray(df_train_salaries.iloc[:,1])"
   ]
  },
  {
   "cell_type": "code",
   "execution_count": null,
   "metadata": {},
   "outputs": [
    {
     "name": "stdout",
     "output_type": "stream",
     "text": [
      "11 operators have been imported by TPOT.\n"
     ]
    },
    {
     "data": {
      "application/vnd.jupyter.widget-view+json": {
       "model_id": "03420d089173406c998e59cf8697580e",
       "version_major": 2,
       "version_minor": 0
      },
      "text/plain": [
       "HBox(children=(FloatProgress(value=0.0, description='Optimization Progress', max=300.0, style=ProgressStyle(de…"
      ]
     },
     "metadata": {},
     "output_type": "display_data"
    },
    {
     "name": "stdout",
     "output_type": "stream",
     "text": [
      "Skipped pipeline #5 due to time out. Continuing to the next pipeline.\n",
      "Skipped pipeline #16 due to time out. Continuing to the next pipeline.\n",
      "Skipped pipeline #19 due to time out. Continuing to the next pipeline.\n",
      "Skipped pipeline #21 due to time out. Continuing to the next pipeline.\n",
      "Skipped pipeline #24 due to time out. Continuing to the next pipeline.\n",
      "Skipped pipeline #35 due to time out. Continuing to the next pipeline.\n",
      "Skipped pipeline #38 due to time out. Continuing to the next pipeline.\n",
      "Skipped pipeline #40 due to time out. Continuing to the next pipeline.\n",
      "Skipped pipeline #46 due to time out. Continuing to the next pipeline.\n",
      "Created new folder to save periodic pipeline: tpot_salary1.txt\n",
      "Saving periodic pipeline from pareto front to tpot_salary1.txt/pipeline_gen_1_idx_0_2020.01.03_03-47-21.py\n",
      "_pre_test decorator: _random_mutation_operator: num_test=0 Found array with 0 feature(s) (shape=(50, 0)) while a minimum of 1 is required..\n",
      "_pre_test decorator: _random_mutation_operator: num_test=0 A sparse matrix was passed, but dense data is required. Use X.toarray() to convert to a dense numpy array..\n",
      "_pre_test decorator: _random_mutation_operator: num_test=1 A sparse matrix was passed, but dense data is required. Use X.toarray() to convert to a dense numpy array..\n",
      "_pre_test decorator: _random_mutation_operator: num_test=2 A sparse matrix was passed, but dense data is required. Use X.toarray() to convert to a dense numpy array..\n",
      "_pre_test decorator: _random_mutation_operator: num_test=0 A sparse matrix was passed, but dense data is required. Use X.toarray() to convert to a dense numpy array..\n",
      "_pre_test decorator: _random_mutation_operator: num_test=0 A sparse matrix was passed, but dense data is required. Use X.toarray() to convert to a dense numpy array..\n",
      "_pre_test decorator: _random_mutation_operator: num_test=0 Found array with 0 feature(s) (shape=(50, 0)) while a minimum of 1 is required..\n",
      "_pre_test decorator: _random_mutation_operator: num_test=0 A sparse matrix was passed, but dense data is required. Use X.toarray() to convert to a dense numpy array..\n",
      "_pre_test decorator: _random_mutation_operator: num_test=1 A sparse matrix was passed, but dense data is required. Use X.toarray() to convert to a dense numpy array..\n",
      "_pre_test decorator: _random_mutation_operator: num_test=0 A sparse matrix was passed, but dense data is required. Use X.toarray() to convert to a dense numpy array..\n",
      "_pre_test decorator: _random_mutation_operator: num_test=0 A sparse matrix was passed, but dense data is required. Use X.toarray() to convert to a dense numpy array..\n",
      "_pre_test decorator: _random_mutation_operator: num_test=1 Unsupported set of arguments: The combination of penalty='l2' and loss='epsilon_insensitive' are not supported when dual=False, Parameters: penalty='l2', loss='epsilon_insensitive', dual=False.\n",
      "_pre_test decorator: _random_mutation_operator: num_test=2 A sparse matrix was passed, but dense data is required. Use X.toarray() to convert to a dense numpy array..\n",
      "_pre_test decorator: _random_mutation_operator: num_test=0 Unsupported set of arguments: The combination of penalty='l2' and loss='epsilon_insensitive' are not supported when dual=False, Parameters: penalty='l2', loss='epsilon_insensitive', dual=False.\n",
      "_pre_test decorator: _random_mutation_operator: num_test=0 A sparse matrix was passed, but dense data is required. Use X.toarray() to convert to a dense numpy array..\n",
      "_pre_test decorator: _random_mutation_operator: num_test=1 A sparse matrix was passed, but dense data is required. Use X.toarray() to convert to a dense numpy array..\n",
      "_pre_test decorator: _random_mutation_operator: num_test=2 A sparse matrix was passed, but dense data is required. Use X.toarray() to convert to a dense numpy array..\n",
      "_pre_test decorator: _random_mutation_operator: num_test=3 A sparse matrix was passed, but dense data is required. Use X.toarray() to convert to a dense numpy array..\n",
      "_pre_test decorator: _random_mutation_operator: num_test=4 A sparse matrix was passed, but dense data is required. Use X.toarray() to convert to a dense numpy array..\n",
      "Pipeline encountered that has previously been evaluated during the optimization process. Using the score from the previous evaluation.\n",
      "Skipped pipeline #66 due to time out. Continuing to the next pipeline.\n",
      "Skipped pipeline #69 due to time out. Continuing to the next pipeline.\n",
      "Skipped pipeline #78 due to time out. Continuing to the next pipeline.\n",
      "Skipped pipeline #83 due to time out. Continuing to the next pipeline.\n",
      "Skipped pipeline #91 due to time out. Continuing to the next pipeline.\n",
      "Skipped pipeline #95 due to time out. Continuing to the next pipeline.\n",
      "Skipped pipeline #98 due to time out. Continuing to the next pipeline.\n",
      "Skipped pipeline #105 due to time out. Continuing to the next pipeline.\n",
      "Skipped pipeline #109 due to time out. Continuing to the next pipeline.\n",
      "Generation 1 - Current Pareto front scores:\n",
      "-1\t-366.12560265956864\tRandomForestRegressor(input_matrix, RandomForestRegressor__bootstrap=True, RandomForestRegressor__max_features=0.4, RandomForestRegressor__min_samples_leaf=19, RandomForestRegressor__min_samples_split=7, RandomForestRegressor__n_estimators=100)\n",
      "\n",
      "Periodic pipeline was not saved, probably saved before...\n",
      "_pre_test decorator: _random_mutation_operator: num_test=0 A sparse matrix was passed, but dense data is required. Use X.toarray() to convert to a dense numpy array..\n",
      "_pre_test decorator: _random_mutation_operator: num_test=0 A sparse matrix was passed, but dense data is required. Use X.toarray() to convert to a dense numpy array..\n",
      "_pre_test decorator: _random_mutation_operator: num_test=0 Unsupported set of arguments: The combination of penalty='l2' and loss='epsilon_insensitive' are not supported when dual=False, Parameters: penalty='l2', loss='epsilon_insensitive', dual=False.\n",
      "_pre_test decorator: _random_mutation_operator: num_test=0 A sparse matrix was passed, but dense data is required. Use X.toarray() to convert to a dense numpy array..\n",
      "_pre_test decorator: _random_mutation_operator: num_test=0 A sparse matrix was passed, but dense data is required. Use X.toarray() to convert to a dense numpy array..\n",
      "_pre_test decorator: _random_mutation_operator: num_test=0 Found array with 0 feature(s) (shape=(50, 0)) while a minimum of 1 is required..\n",
      "_pre_test decorator: _random_mutation_operator: num_test=1 A sparse matrix was passed, but dense data is required. Use X.toarray() to convert to a dense numpy array..\n",
      "_pre_test decorator: _random_mutation_operator: num_test=0 A sparse matrix was passed, but dense data is required. Use X.toarray() to convert to a dense numpy array..\n",
      "_pre_test decorator: _random_mutation_operator: num_test=0 A sparse matrix was passed, but dense data is required. Use X.toarray() to convert to a dense numpy array..\n",
      "_pre_test decorator: _random_mutation_operator: num_test=0 Found array with 0 feature(s) (shape=(50, 0)) while a minimum of 1 is required..\n",
      "_pre_test decorator: _random_mutation_operator: num_test=1 A sparse matrix was passed, but dense data is required. Use X.toarray() to convert to a dense numpy array..\n",
      "_pre_test decorator: _random_mutation_operator: num_test=0 A sparse matrix was passed, but dense data is required. Use X.toarray() to convert to a dense numpy array..\n",
      "_pre_test decorator: _random_mutation_operator: num_test=1 A sparse matrix was passed, but dense data is required. Use X.toarray() to convert to a dense numpy array..\n",
      "_pre_test decorator: _random_mutation_operator: num_test=0 A sparse matrix was passed, but dense data is required. Use X.toarray() to convert to a dense numpy array..\n",
      "_pre_test decorator: _random_mutation_operator: num_test=0 A sparse matrix was passed, but dense data is required. Use X.toarray() to convert to a dense numpy array..\n",
      "_pre_test decorator: _random_mutation_operator: num_test=0 A sparse matrix was passed, but dense data is required. Use X.toarray() to convert to a dense numpy array..\n",
      "_pre_test decorator: _random_mutation_operator: num_test=0 A sparse matrix was passed, but dense data is required. Use X.toarray() to convert to a dense numpy array..\n",
      "_pre_test decorator: _random_mutation_operator: num_test=0 Unsupported set of arguments: The combination of penalty='l2' and loss='epsilon_insensitive' are not supported when dual=False, Parameters: penalty='l2', loss='epsilon_insensitive', dual=False.\n",
      "_pre_test decorator: _random_mutation_operator: num_test=0 A sparse matrix was passed, but dense data is required. Use X.toarray() to convert to a dense numpy array..\n"
     ]
    },
    {
     "name": "stdout",
     "output_type": "stream",
     "text": [
      "_pre_test decorator: _random_mutation_operator: num_test=0 Unsupported set of arguments: The combination of penalty='l2' and loss='epsilon_insensitive' are not supported when dual=False, Parameters: penalty='l2', loss='epsilon_insensitive', dual=False.\n",
      "_pre_test decorator: _random_mutation_operator: num_test=0 A sparse matrix was passed, but dense data is required. Use X.toarray() to convert to a dense numpy array..\n",
      "_pre_test decorator: _random_mutation_operator: num_test=1 Unsupported set of arguments: The combination of penalty='l2' and loss='epsilon_insensitive' are not supported when dual=False, Parameters: penalty='l2', loss='epsilon_insensitive', dual=False.\n",
      "_pre_test decorator: _random_mutation_operator: num_test=0 A sparse matrix was passed, but dense data is required. Use X.toarray() to convert to a dense numpy array..\n",
      "_pre_test decorator: _random_mutation_operator: num_test=1 A sparse matrix was passed, but dense data is required. Use X.toarray() to convert to a dense numpy array..\n",
      "Skipped pipeline #127 due to time out. Continuing to the next pipeline.\n",
      "Skipped pipeline #133 due to time out. Continuing to the next pipeline.\n",
      "Skipped pipeline #146 due to time out. Continuing to the next pipeline.\n"
     ]
    }
   ],
   "source": [
    "X_train, X_test, y_train, y_test = train_test_split(new_data,\n",
    "                                                    np.asarray(df_train_salaries.iloc[:,1]),\n",
    "                                                    train_size=0.75, test_size=0.25, random_state=42)\n",
    "  \n",
    "tpot = TPOTRegressor(generations=5, population_size=50, verbosity=3, random_state=42, max_eval_time_mins = 2, \n",
    "                     n_jobs = -1,\n",
    "                     periodic_checkpoint_folder = \"tpot_salary1.txt\",\n",
    "                     config_dict = 'TPOT sparse'\n",
    "                    )\n",
    "tpot.fit(X_train, y_train) \n",
    "print(tpot.score(X_test, y_test))\n",
    "tpot.export('tpot_salary_pipeline.py') \n"
   ]
  },
  {
   "cell_type": "code",
   "execution_count": 15,
   "metadata": {},
   "outputs": [],
   "source": [
    "#create and tune the models that you brainstormed during part 2"
   ]
  },
  {
   "cell_type": "markdown",
   "metadata": {},
   "source": [
    "### ---- 9 Test models ----"
   ]
  },
  {
   "cell_type": "code",
   "execution_count": 1,
   "metadata": {},
   "outputs": [],
   "source": [
    "#do 5-fold cross validation on models and measure MSE"
   ]
  },
  {
   "cell_type": "code",
   "execution_count": null,
   "metadata": {},
   "outputs": [
    {
     "name": "stderr",
     "output_type": "stream",
     "text": [
      "/home/ben/anaconda3/lib/python3.7/site-packages/sklearn/pipeline.py:352: DataConversionWarning: A column-vector y was passed when a 1d array was expected. Please change the shape of y to (n_samples,), for example using ravel().\n",
      "  self._final_estimator.fit(Xt, y, **fit_params)\n"
     ]
    }
   ],
   "source": [
    "scores_rf = cross_validate(rf,df_train_features.iloc[:,2:],df_train_salaries.iloc[:,1:], cv = 5,\n",
    "                       scoring=('r2', 'neg_mean_squared_error'),\n",
    "                       return_train_score = True)"
   ]
  },
  {
   "cell_type": "code",
   "execution_count": 49,
   "metadata": {},
   "outputs": [],
   "source": [
    "scores_linreg = cross_validate(lr,df_train_features.iloc[:,2:],df_train_salaries.iloc[:,1:], cv = 5,\n",
    "                       scoring=('r2', 'neg_mean_squared_error'),\n",
    "                       return_train_score = True)"
   ]
  },
  {
   "cell_type": "code",
   "execution_count": 50,
   "metadata": {},
   "outputs": [
    {
     "data": {
      "text/plain": [
       "{'fit_time': array([2.25949144, 2.20079398, 2.37065482, 2.30806112, 2.27097845]),\n",
       " 'score_time': array([0.27930903, 0.17788291, 0.18712091, 0.18037295, 0.20594144]),\n",
       " 'test_r2': array([0.73634862, 0.73709632, 0.7364397 , 0.73726402, 0.73732647]),\n",
       " 'train_r2': array([0.73705317, 0.73686594, 0.7370286 , 0.73682495, 0.73680733]),\n",
       " 'test_neg_mean_squared_error': array([-396.19269399, -394.93251359, -396.06945896, -392.58949117,\n",
       "        -392.20185563]),\n",
       " 'train_neg_mean_squared_error': array([-393.91836445, -394.23260406, -393.95011217, -394.81812134,\n",
       "        -394.91755534])}"
      ]
     },
     "execution_count": 50,
     "metadata": {},
     "output_type": "execute_result"
    }
   ],
   "source": [
    "scores"
   ]
  },
  {
   "cell_type": "code",
   "execution_count": 65,
   "metadata": {},
   "outputs": [],
   "source": [
    "params = {'lassoreg__alpha': [1e-15,1e-10,1e-8,1e-4,1e-3,1e-2,1,2,5,10,20]}"
   ]
  },
  {
   "cell_type": "code",
   "execution_count": null,
   "metadata": {},
   "outputs": [],
   "source": []
  },
  {
   "cell_type": "code",
   "execution_count": 66,
   "metadata": {},
   "outputs": [],
   "source": [
    "lasso_search =  GridSearchCV(lasso, params,scoring = 'neg_mean_squared_error', cv = 5)"
   ]
  },
  {
   "cell_type": "code",
   "execution_count": 67,
   "metadata": {},
   "outputs": [
    {
     "name": "stderr",
     "output_type": "stream",
     "text": [
      "/home/ben/anaconda3/lib/python3.7/site-packages/sklearn/linear_model/_coordinate_descent.py:460: ConvergenceWarning: Objective did not converge. You might want to increase the number of iterations. Duality gap: 153628515.94249752, tolerance: 119846.70566935066\n",
      "  max_iter, tol, rng, random, positive)\n",
      "/home/ben/anaconda3/lib/python3.7/site-packages/sklearn/linear_model/_coordinate_descent.py:460: ConvergenceWarning: Objective did not converge. You might want to increase the number of iterations. Duality gap: 153732259.40295038, tolerance: 119856.96931300739\n",
      "  max_iter, tol, rng, random, positive)\n",
      "/home/ben/anaconda3/lib/python3.7/site-packages/sklearn/linear_model/_coordinate_descent.py:460: ConvergenceWarning: Objective did not converge. You might want to increase the number of iterations. Duality gap: 153653111.27323702, tolerance: 119845.16673018859\n",
      "  max_iter, tol, rng, random, positive)\n",
      "/home/ben/anaconda3/lib/python3.7/site-packages/sklearn/linear_model/_coordinate_descent.py:460: ConvergenceWarning: Objective did not converge. You might want to increase the number of iterations. Duality gap: 153988765.3810228, tolerance: 120016.28268610561\n",
      "  max_iter, tol, rng, random, positive)\n",
      "/home/ben/anaconda3/lib/python3.7/site-packages/sklearn/linear_model/_coordinate_descent.py:460: ConvergenceWarning: Objective did not converge. You might want to increase the number of iterations. Duality gap: 154038543.77936208, tolerance: 120038.47293181201\n",
      "  max_iter, tol, rng, random, positive)\n",
      "/home/ben/anaconda3/lib/python3.7/site-packages/sklearn/linear_model/_coordinate_descent.py:460: ConvergenceWarning: Objective did not converge. You might want to increase the number of iterations. Duality gap: 19407290.253731936, tolerance: 119846.70566935066\n",
      "  max_iter, tol, rng, random, positive)\n",
      "/home/ben/anaconda3/lib/python3.7/site-packages/sklearn/linear_model/_coordinate_descent.py:460: ConvergenceWarning: Objective did not converge. You might want to increase the number of iterations. Duality gap: 19440654.805989742, tolerance: 119856.96931300739\n",
      "  max_iter, tol, rng, random, positive)\n",
      "/home/ben/anaconda3/lib/python3.7/site-packages/sklearn/linear_model/_coordinate_descent.py:460: ConvergenceWarning: Objective did not converge. You might want to increase the number of iterations. Duality gap: 19459318.956231177, tolerance: 119845.16673018859\n",
      "  max_iter, tol, rng, random, positive)\n",
      "/home/ben/anaconda3/lib/python3.7/site-packages/sklearn/linear_model/_coordinate_descent.py:460: ConvergenceWarning: Objective did not converge. You might want to increase the number of iterations. Duality gap: 19664803.49414006, tolerance: 120016.28268610561\n",
      "  max_iter, tol, rng, random, positive)\n",
      "/home/ben/anaconda3/lib/python3.7/site-packages/sklearn/linear_model/_coordinate_descent.py:460: ConvergenceWarning: Objective did not converge. You might want to increase the number of iterations. Duality gap: 19433480.76575598, tolerance: 120038.47293181201\n",
      "  max_iter, tol, rng, random, positive)\n",
      "/home/ben/anaconda3/lib/python3.7/site-packages/sklearn/linear_model/_coordinate_descent.py:460: ConvergenceWarning: Objective did not converge. You might want to increase the number of iterations. Duality gap: 19387177.28506905, tolerance: 119846.70566935066\n",
      "  max_iter, tol, rng, random, positive)\n",
      "/home/ben/anaconda3/lib/python3.7/site-packages/sklearn/linear_model/_coordinate_descent.py:460: ConvergenceWarning: Objective did not converge. You might want to increase the number of iterations. Duality gap: 19513232.7690264, tolerance: 119856.96931300739\n",
      "  max_iter, tol, rng, random, positive)\n",
      "/home/ben/anaconda3/lib/python3.7/site-packages/sklearn/linear_model/_coordinate_descent.py:460: ConvergenceWarning: Objective did not converge. You might want to increase the number of iterations. Duality gap: 19390528.172700733, tolerance: 119845.16673018859\n",
      "  max_iter, tol, rng, random, positive)\n",
      "/home/ben/anaconda3/lib/python3.7/site-packages/sklearn/linear_model/_coordinate_descent.py:460: ConvergenceWarning: Objective did not converge. You might want to increase the number of iterations. Duality gap: 19550748.00202349, tolerance: 120016.28268610561\n",
      "  max_iter, tol, rng, random, positive)\n",
      "/home/ben/anaconda3/lib/python3.7/site-packages/sklearn/linear_model/_coordinate_descent.py:460: ConvergenceWarning: Objective did not converge. You might want to increase the number of iterations. Duality gap: 19496916.88794008, tolerance: 120038.47293181201\n",
      "  max_iter, tol, rng, random, positive)\n",
      "/home/ben/anaconda3/lib/python3.7/site-packages/sklearn/linear_model/_coordinate_descent.py:460: ConvergenceWarning: Objective did not converge. You might want to increase the number of iterations. Duality gap: 19397709.990499854, tolerance: 119846.70566935066\n",
      "  max_iter, tol, rng, random, positive)\n",
      "/home/ben/anaconda3/lib/python3.7/site-packages/sklearn/linear_model/_coordinate_descent.py:460: ConvergenceWarning: Objective did not converge. You might want to increase the number of iterations. Duality gap: 19524706.237722278, tolerance: 119856.96931300739\n",
      "  max_iter, tol, rng, random, positive)\n",
      "/home/ben/anaconda3/lib/python3.7/site-packages/sklearn/linear_model/_coordinate_descent.py:460: ConvergenceWarning: Objective did not converge. You might want to increase the number of iterations. Duality gap: 19400551.09157279, tolerance: 119845.16673018859\n",
      "  max_iter, tol, rng, random, positive)\n",
      "/home/ben/anaconda3/lib/python3.7/site-packages/sklearn/linear_model/_coordinate_descent.py:460: ConvergenceWarning: Objective did not converge. You might want to increase the number of iterations. Duality gap: 19560339.118349075, tolerance: 120016.28268610561\n",
      "  max_iter, tol, rng, random, positive)\n",
      "/home/ben/anaconda3/lib/python3.7/site-packages/sklearn/linear_model/_coordinate_descent.py:460: ConvergenceWarning: Objective did not converge. You might want to increase the number of iterations. Duality gap: 19508279.394766808, tolerance: 120038.47293181201\n",
      "  max_iter, tol, rng, random, positive)\n",
      "/home/ben/anaconda3/lib/python3.7/site-packages/sklearn/linear_model/_coordinate_descent.py:460: ConvergenceWarning: Objective did not converge. You might want to increase the number of iterations. Duality gap: 3962667.542535424, tolerance: 119846.70566935066\n",
      "  max_iter, tol, rng, random, positive)\n",
      "/home/ben/anaconda3/lib/python3.7/site-packages/sklearn/linear_model/_coordinate_descent.py:460: ConvergenceWarning: Objective did not converge. You might want to increase the number of iterations. Duality gap: 3968188.383567214, tolerance: 119856.96931300739\n",
      "  max_iter, tol, rng, random, positive)\n",
      "/home/ben/anaconda3/lib/python3.7/site-packages/sklearn/linear_model/_coordinate_descent.py:460: ConvergenceWarning: Objective did not converge. You might want to increase the number of iterations. Duality gap: 3975544.9639324546, tolerance: 119845.16673018859\n",
      "  max_iter, tol, rng, random, positive)\n",
      "/home/ben/anaconda3/lib/python3.7/site-packages/sklearn/linear_model/_coordinate_descent.py:460: ConvergenceWarning: Objective did not converge. You might want to increase the number of iterations. Duality gap: 3990293.0023063123, tolerance: 120016.28268610561\n",
      "  max_iter, tol, rng, random, positive)\n",
      "/home/ben/anaconda3/lib/python3.7/site-packages/sklearn/linear_model/_coordinate_descent.py:460: ConvergenceWarning: Objective did not converge. You might want to increase the number of iterations. Duality gap: 3976529.5505118966, tolerance: 120038.47293181201\n",
      "  max_iter, tol, rng, random, positive)\n",
      "/home/ben/anaconda3/lib/python3.7/site-packages/sklearn/linear_model/_coordinate_descent.py:460: ConvergenceWarning: Objective did not converge. You might want to increase the number of iterations. Duality gap: 24333906.14532739, tolerance: 149900.9746470112\n",
      "  max_iter, tol, rng, random, positive)\n"
     ]
    },
    {
     "data": {
      "text/plain": [
       "GridSearchCV(cv=5, error_score=nan,\n",
       "             estimator=Pipeline(memory=None,\n",
       "                                steps=[('preprocess',\n",
       "                                        ColumnTransformer(n_jobs=None,\n",
       "                                                          remainder='drop',\n",
       "                                                          sparse_threshold=0.3,\n",
       "                                                          transformer_weights=None,\n",
       "                                                          transformers=[('cat',\n",
       "                                                                         Pipeline(memory=None,\n",
       "                                                                                  steps=[('onehotencoder',\n",
       "                                                                                          OneHotEncoder(categories='auto',\n",
       "                                                                                                        drop=None,\n",
       "                                                                                                        dtype=<class 'numpy.float64'>,\n",
       "                                                                                                        handle_unknown='error',\n",
       "                                                                                                        sparse=True...\n",
       "                                              fit_intercept=True, max_iter=1000,\n",
       "                                              normalize=False, positive=False,\n",
       "                                              precompute=False,\n",
       "                                              random_state=None,\n",
       "                                              selection='cyclic', tol=0.0001,\n",
       "                                              warm_start=False))],\n",
       "                                verbose=False),\n",
       "             iid='deprecated', n_jobs=None,\n",
       "             param_grid={'lassoreg__alpha': [1e-15, 1e-10, 1e-08, 0.0001, 0.001,\n",
       "                                             0.01, 1, 2, 5, 10, 20]},\n",
       "             pre_dispatch='2*n_jobs', refit=True, return_train_score=False,\n",
       "             scoring='neg_mean_squared_error', verbose=0)"
      ]
     },
     "execution_count": 67,
     "metadata": {},
     "output_type": "execute_result"
    }
   ],
   "source": [
    "lasso_search.fit(df_train_features.iloc[:,2:],df_train_salaries.iloc[:,1:])"
   ]
  },
  {
   "cell_type": "code",
   "execution_count": 69,
   "metadata": {},
   "outputs": [
    {
     "name": "stdout",
     "output_type": "stream",
     "text": [
      "{'lassoreg__alpha': 1e-08}\n",
      "-384.5913347813538\n"
     ]
    }
   ],
   "source": [
    "print(lasso_search.best_params_)\n",
    "print(lasso_search.best_score_)"
   ]
  },
  {
   "cell_type": "code",
   "execution_count": 70,
   "metadata": {},
   "outputs": [
    {
     "data": {
      "text/plain": [
       "384.56006672115274"
      ]
     },
     "execution_count": 70,
     "metadata": {},
     "output_type": "execute_result"
    }
   ],
   "source": [
    "mean_squared_error(lasso_search.predict(df_train_features.iloc[:,2:]),df_train_salaries.iloc[:,1:])"
   ]
  },
  {
   "cell_type": "code",
   "execution_count": 71,
   "metadata": {},
   "outputs": [],
   "source": [
    "params = {'ridgereg__alpha': [1e-15,1e-10,1e-8,1e-4,1e-3,1e-2,1,2,5,10,20]}"
   ]
  },
  {
   "cell_type": "code",
   "execution_count": 74,
   "metadata": {},
   "outputs": [],
   "source": [
    "ridge_search =  GridSearchCV(ridge, params,scoring = 'neg_mean_squared_error', cv = 5)"
   ]
  },
  {
   "cell_type": "code",
   "execution_count": 75,
   "metadata": {},
   "outputs": [
    {
     "data": {
      "text/plain": [
       "GridSearchCV(cv=5, error_score=nan,\n",
       "             estimator=Pipeline(memory=None,\n",
       "                                steps=[('preprocess',\n",
       "                                        ColumnTransformer(n_jobs=None,\n",
       "                                                          remainder='drop',\n",
       "                                                          sparse_threshold=0.3,\n",
       "                                                          transformer_weights=None,\n",
       "                                                          transformers=[('cat',\n",
       "                                                                         Pipeline(memory=None,\n",
       "                                                                                  steps=[('onehotencoder',\n",
       "                                                                                          OneHotEncoder(categories='auto',\n",
       "                                                                                                        drop=None,\n",
       "                                                                                                        dtype=<class 'numpy.float64'>,\n",
       "                                                                                                        handle_unknown='error',\n",
       "                                                                                                        sparse=True...\n",
       "                                        Ridge(alpha=1.0, copy_X=True,\n",
       "                                              fit_intercept=True, max_iter=None,\n",
       "                                              normalize=False,\n",
       "                                              random_state=None, solver='auto',\n",
       "                                              tol=0.001))],\n",
       "                                verbose=False),\n",
       "             iid='deprecated', n_jobs=None,\n",
       "             param_grid={'ridgereg__alpha': [1e-15, 1e-10, 1e-08, 0.0001, 0.001,\n",
       "                                             0.01, 1, 2, 5, 10, 20]},\n",
       "             pre_dispatch='2*n_jobs', refit=True, return_train_score=False,\n",
       "             scoring='neg_mean_squared_error', verbose=0)"
      ]
     },
     "execution_count": 75,
     "metadata": {},
     "output_type": "execute_result"
    }
   ],
   "source": [
    "ridge_search.fit(df_train_features.iloc[:,2:],df_train_salaries.iloc[:,1:])"
   ]
  },
  {
   "cell_type": "code",
   "execution_count": 77,
   "metadata": {},
   "outputs": [
    {
     "name": "stdout",
     "output_type": "stream",
     "text": [
      "{'ridgereg__alpha': 5}\n",
      "-384.5917149495308\n"
     ]
    }
   ],
   "source": [
    "print(ridge_search.best_params_)\n",
    "print(ridge_search.best_score_)"
   ]
  },
  {
   "cell_type": "code",
   "execution_count": 89,
   "metadata": {},
   "outputs": [
    {
     "data": {
      "text/plain": [
       "384.5604190081154"
      ]
     },
     "execution_count": 89,
     "metadata": {},
     "output_type": "execute_result"
    }
   ],
   "source": [
    "mean_squared_error(ridge_search.predict(df_train_features.iloc[:,2:]),df_train_salaries.iloc[:,1:])"
   ]
  },
  {
   "cell_type": "code",
   "execution_count": 87,
   "metadata": {},
   "outputs": [
    {
     "name": "stdout",
     "output_type": "stream",
     "text": [
      "[13:19:58] WARNING: /workspace/src/objective/regression_obj.cu:152: reg:linear is now deprecated in favor of reg:squarederror.\n"
     ]
    },
    {
     "data": {
      "text/plain": [
       "XGBRegressor(base_score=0.5, booster='gbtree', colsample_bylevel=1,\n",
       "             colsample_bynode=1, colsample_bytree=1, gamma=0,\n",
       "             importance_type='gain', learning_rate=0.1, max_delta_step=0,\n",
       "             max_depth=3, min_child_weight=1, missing=None, n_estimators=100,\n",
       "             n_jobs=1, nthread=None, objective='reg:linear', random_state=0,\n",
       "             reg_alpha=0, reg_lambda=1, scale_pos_weight=1, seed=None,\n",
       "             silent=None, subsample=1, verbosity=1)"
      ]
     },
     "execution_count": 87,
     "metadata": {},
     "output_type": "execute_result"
    }
   ],
   "source": [
    "\n",
    "xgb_reg = xgboost.XGBRegressor()\n",
    "xgb_reg.fit(new_data,df_train_salaries.iloc[:,1:])\n"
   ]
  },
  {
   "cell_type": "code",
   "execution_count": 88,
   "metadata": {},
   "outputs": [
    {
     "data": {
      "text/plain": [
       "373.13630518747345"
      ]
     },
     "execution_count": 88,
     "metadata": {},
     "output_type": "execute_result"
    }
   ],
   "source": [
    "mean_squared_error(xgb_reg.predict(new_data),df_train_salaries.iloc[:,1:])"
   ]
  },
  {
   "cell_type": "code",
   "execution_count": null,
   "metadata": {},
   "outputs": [],
   "source": []
  },
  {
   "cell_type": "markdown",
   "metadata": {},
   "source": [
    "### ---- 10 Select best model  ----"
   ]
  },
  {
   "cell_type": "code",
   "execution_count": null,
   "metadata": {},
   "outputs": [],
   "source": [
    "#select the model with the lowest error as your \"prodcuction\" model"
   ]
  },
  {
   "cell_type": "markdown",
   "metadata": {},
   "source": [
    "## Part 4 - DEPLOY"
   ]
  },
  {
   "cell_type": "markdown",
   "metadata": {},
   "source": [
    "### ---- 11 Automate pipeline ----"
   ]
  },
  {
   "cell_type": "code",
   "execution_count": null,
   "metadata": {},
   "outputs": [],
   "source": [
    "#write script that trains model on entire training set, saves model to disk,\n",
    "#and scores the \"test\" dataset"
   ]
  },
  {
   "cell_type": "markdown",
   "metadata": {},
   "source": [
    "### ---- 12 Deploy solution ----"
   ]
  },
  {
   "cell_type": "code",
   "execution_count": 16,
   "metadata": {},
   "outputs": [],
   "source": [
    "#save your prediction to a csv file or optionally save them as a table in a SQL database\n",
    "#additionally, you want to save a visualization and summary of your prediction and feature importances\n",
    "#these visualizations and summaries will be extremely useful to business stakeholders"
   ]
  },
  {
   "cell_type": "markdown",
   "metadata": {},
   "source": [
    "### ---- 13 Measure efficacy ----"
   ]
  },
  {
   "cell_type": "markdown",
   "metadata": {},
   "source": [
    "We'll skip this step since we don't have the outcomes for the test data"
   ]
  },
  {
   "cell_type": "code",
   "execution_count": null,
   "metadata": {},
   "outputs": [],
   "source": []
  },
  {
   "cell_type": "code",
   "execution_count": null,
   "metadata": {},
   "outputs": [],
   "source": []
  },
  {
   "cell_type": "code",
   "execution_count": null,
   "metadata": {},
   "outputs": [],
   "source": []
  },
  {
   "cell_type": "code",
   "execution_count": null,
   "metadata": {},
   "outputs": [],
   "source": []
  }
 ],
 "metadata": {
  "kernelspec": {
   "display_name": "Python 3",
   "language": "python",
   "name": "python3"
  },
  "language_info": {
   "codemirror_mode": {
    "name": "ipython",
    "version": 3
   },
   "file_extension": ".py",
   "mimetype": "text/x-python",
   "name": "python",
   "nbconvert_exporter": "python",
   "pygments_lexer": "ipython3",
   "version": "3.7.1"
  }
 },
 "nbformat": 4,
 "nbformat_minor": 2
}
